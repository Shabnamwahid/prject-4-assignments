{
  "nbformat": 4,
  "nbformat_minor": 0,
  "metadata": {
    "colab": {
      "provenance": [],
      "authorship_tag": "ABX9TyMnAzEK0rQCovjbuAj7V4U6",
      "include_colab_link": true
    },
    "kernelspec": {
      "name": "python3",
      "display_name": "Python 3"
    },
    "language_info": {
      "name": "python"
    }
  },
  "cells": [
    {
      "cell_type": "markdown",
      "metadata": {
        "id": "view-in-github",
        "colab_type": "text"
      },
      "source": [
        "<a href=\"https://colab.research.google.com/github/Shabnamwahid/prject-4-assignments/blob/main/mad_libs_python.ipynb\" target=\"_parent\"><img src=\"https://colab.research.google.com/assets/colab-badge.svg\" alt=\"Open In Colab\"/></a>"
      ]
    },
    {
      "cell_type": "markdown",
      "source": [],
      "metadata": {
        "id": "EqHrkatqyE4v"
      }
    },
    {
      "cell_type": "markdown",
      "source": [
        "# **Project** 1: Mad libs Python Project"
      ],
      "metadata": {
        "id": "MxBYP0VazPKo"
      }
    },
    {
      "cell_type": "code",
      "source": [
        "# Mad Libs Game in Python\n",
        "\n",
        "# Taking user inputs\n",
        "noun = input(\"Enter a noun (person, place, or thing): \")\n",
        "verb = input(\"Enter a verb (action like 'running'): \")\n",
        "adjective = input(\"Enter an adjective (descriptive word like 'beautiful'): \")\n",
        "place = input(\"Enter a place name: \")\n",
        "\n",
        "# Generating the Mad Libs story\n",
        "story = f\"One day in {place}, a {adjective} {noun} was always {verb}. \\\n",
        "People were surprised to see such a thing happening!\"\n",
        "\n",
        "# Displaying the story\n",
        "print(\"\\n--- Your Mad Libs Story ---\")\n",
        "print(story)\n"
      ],
      "metadata": {
        "colab": {
          "base_uri": "https://localhost:8080/"
        },
        "id": "jwuwD9NkzYMG",
        "outputId": "74ec7fb4-4de7-4192-d91b-47cfbef25732"
      },
      "execution_count": 3,
      "outputs": [
        {
          "output_type": "stream",
          "name": "stdout",
          "text": [
            "Enter a noun (person, place, or thing): Ali\n",
            "Enter a verb (action like 'running'): running\n",
            "Enter an adjective (descriptive word like 'beautiful'): fast\n",
            "Enter a place name: playground\n",
            "\n",
            "--- Your Mad Libs Story ---\n",
            "One day in playground, a fast Ali was always running. People were surprised to see such a thing happening!\n"
          ]
        }
      ]
    }
  ]
}
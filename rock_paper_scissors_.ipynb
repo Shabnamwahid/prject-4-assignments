{
  "nbformat": 4,
  "nbformat_minor": 0,
  "metadata": {
    "colab": {
      "provenance": [],
      "authorship_tag": "ABX9TyO4aJ3jptnd/BSvktxwDjEm",
      "include_colab_link": true
    },
    "kernelspec": {
      "name": "python3",
      "display_name": "Python 3"
    },
    "language_info": {
      "name": "python"
    }
  },
  "cells": [
    {
      "cell_type": "markdown",
      "metadata": {
        "id": "view-in-github",
        "colab_type": "text"
      },
      "source": [
        "<a href=\"https://colab.research.google.com/github/Shabnamwahid/prject-4-assignments/blob/main/rock_paper_scissors_.ipynb\" target=\"_parent\"><img src=\"https://colab.research.google.com/assets/colab-badge.svg\" alt=\"Open In Colab\"/></a>"
      ]
    },
    {
      "cell_type": "markdown",
      "source": [
        "# Project 4: Rock, paper, scissors Python **Project**"
      ],
      "metadata": {
        "id": "WTOD0oZWw9gB"
      }
    },
    {
      "cell_type": "code",
      "source": [
        "import random\n",
        "\n",
        "choices = [\"rock\", \"paper\", \"scissors\"]\n",
        "\n",
        "print(\"🎮 Rock, Paper, Scissors Game! 🎮\")\n",
        "\n",
        "while True:\n",
        "    user_choice = input(\"Enter rock, paper, or scissors (or 'quit' to exit): \").lower()\n",
        "    if user_choice == \"quit\":\n",
        "        break\n",
        "\n",
        "    if user_choice not in choices:\n",
        "        print(\"Invalid choice! Try again.\")\n",
        "        continue\n",
        "\n",
        "    computer_choice = random.choice(choices)\n",
        "    print(f\"Computer chose: {computer_choice}\")\n",
        "\n",
        "    if user_choice == computer_choice:\n",
        "        print(\"It's a tie! 🤝\")\n",
        "    elif (user_choice == \"rock\" and computer_choice == \"scissors\") or \\\n",
        "         (user_choice == \"paper\" and computer_choice == \"rock\") or \\\n",
        "         (user_choice == \"scissors\" and computer_choice == \"paper\"):\n",
        "        print(\"🎉 You win!\")\n",
        "    else:\n",
        "        print(\"😢 You lose!\")\n"
      ],
      "metadata": {
        "colab": {
          "base_uri": "https://localhost:8080/"
        },
        "id": "EtYdXE2nxN0m",
        "outputId": "8f92f584-b425-4c21-d2f2-43940eab947c"
      },
      "execution_count": 1,
      "outputs": [
        {
          "name": "stdout",
          "output_type": "stream",
          "text": [
            "🎮 Rock, Paper, Scissors Game! 🎮\n",
            "Enter rock, paper, or scissors (or 'quit' to exit): paper\n",
            "Computer chose: scissors\n",
            "😢 You lose!\n",
            "Enter rock, paper, or scissors (or 'quit' to exit): rock\n",
            "Computer chose: rock\n",
            "It's a tie! 🤝\n",
            "Enter rock, paper, or scissors (or 'quit' to exit): scissors\n",
            "Computer chose: paper\n",
            "🎉 You win!\n",
            "Enter rock, paper, or scissors (or 'quit' to exit): quit\n"
          ]
        }
      ]
    }
  ]
}
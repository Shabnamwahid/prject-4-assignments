{
  "nbformat": 4,
  "nbformat_minor": 0,
  "metadata": {
    "colab": {
      "provenance": [],
      "authorship_tag": "ABX9TyM2xuxROGbI+mDsXHVgFvbH",
      "include_colab_link": true
    },
    "kernelspec": {
      "name": "python3",
      "display_name": "Python 3"
    },
    "language_info": {
      "name": "python"
    }
  },
  "cells": [
    {
      "cell_type": "markdown",
      "metadata": {
        "id": "view-in-github",
        "colab_type": "text"
      },
      "source": [
        "<a href=\"https://colab.research.google.com/github/Shabnamwahid/prject-4-assignments/blob/main/01_basics.ipynb\" target=\"_parent\"><img src=\"https://colab.research.google.com/assets/colab-badge.svg\" alt=\"Open In Colab\"/></a>"
      ]
    },
    {
      "cell_type": "code",
      "execution_count": 4,
      "metadata": {
        "colab": {
          "base_uri": "https://localhost:8080/"
        },
        "id": "6kkukl8scFtq",
        "outputId": "ad24a862-eacf-4cb3-9864-b8e03df66861"
      },
      "outputs": [
        {
          "output_type": "stream",
          "name": "stdout",
          "text": [
            "00_joke_bot\n",
            "What do you want? joke\n",
            "Here is a joke for you! \n",
            "Panaversity GPT - Sophia is heading out to the grocery store. \n",
            "A programmer tells her: get a liter of milk, and if they have eggs, get 12. \n",
            "Sophia returns with 13 liters of milk. \n",
            "The programmer asks why and Sophia replies: 'because they had eggs'\n"
          ]
        }
      ],
      "source": [
        "print(\"00_joke_bot\")\n",
        "\n",
        "# Constants for messages\n",
        "PROMPT: str = \"What do you want? \"\n",
        "JOKE: str = \"\"\"Here is a joke for you!\n",
        "Panaversity GPT - Sophia is heading out to the grocery store.\n",
        "A programmer tells her: get a liter of milk, and if they have eggs, get 12.\n",
        "Sophia returns with 13 liters of milk.\n",
        "The programmer asks why and Sophia replies: 'because they had eggs'\"\"\"\n",
        "\n",
        "SORRY: str = \"Sorry, I only tell jokes.\"\n",
        "\n",
        "\n",
        "def main():\n",
        "    user_input = input(PROMPT).strip()  # Taking user input and removing extra spaces\n",
        "\n",
        "    if user_input.lower() == \"joke\":  # Checking if the input is \"joke\"\n",
        "        print(JOKE)\n",
        "    else:\n",
        "        print(SORRY)\n",
        "\n",
        "# Calling the main function\n",
        "if __name__ == \"__main__\":\n",
        "    main()\n"
      ]
    },
    {
      "cell_type": "code",
      "source": [
        "print(\"01_double_it\")\n",
        "\n",
        "def main():\n",
        "    curr_value = int(input(\"Enter a number: \"))  # User inputs a number\n",
        "\n",
        "    while curr_value < 100:  # Continue doubling until 100 or more\n",
        "        curr_value *= 2\n",
        "        print(curr_value, end=\" \")  # Print doubled values on the same line\n",
        "\n",
        "if __name__ == '__main__':\n",
        "    main()\n"
      ],
      "metadata": {
        "colab": {
          "base_uri": "https://localhost:8080/"
        },
        "id": "gflnkdxohsjK",
        "outputId": "5134f463-d11d-4f15-a4b6-9cb829f4e9a5"
      },
      "execution_count": 5,
      "outputs": [
        {
          "output_type": "stream",
          "name": "stdout",
          "text": [
            "01_double_it\n",
            "Enter a number: 4\n",
            "8 16 32 64 128 "
          ]
        }
      ]
    },
    {
      "cell_type": "code",
      "source": [
        "print(\"02_liftoff\")\n",
        "\n",
        "def main():\n",
        "    for i in range(10, 0, -1):  # Countdown from 10 to 1\n",
        "        print(i, end=\" \")  # Print numbers on the same line\n",
        "    print(\"Liftoff!\")  # Print \"Liftoff!\" at the end\n",
        "\n",
        "if __name__ == '__main__':\n",
        "    main()\n",
        "\n"
      ],
      "metadata": {
        "colab": {
          "base_uri": "https://localhost:8080/"
        },
        "id": "2dGesmEyiOHL",
        "outputId": "7d5c0b0b-4ded-46b6-9ea0-f9aef8b5f572"
      },
      "execution_count": 9,
      "outputs": [
        {
          "output_type": "stream",
          "name": "stdout",
          "text": [
            "02_liftoff\n",
            "10 9 8 7 6 5 4 3 2 1 Liftoff!\n"
          ]
        }
      ]
    },
    {
      "cell_type": "code",
      "source": [
        "print(\"03_guess_my_number\")\n",
        "\n",
        "import random\n",
        "\n",
        "def main():\n",
        "    # Generate a secret number between 0 and 99\n",
        "    secret_number = random.randint(0, 99)\n",
        "\n",
        "    print(\"I am thinking of a number between 0 and 99...\")\n",
        "\n",
        "    while True:\n",
        "        try:\n",
        "            guess = int(input(\"Enter a guess: \"))  # Get user input\n",
        "        except ValueError:\n",
        "            print(\"Please enter a valid number!\")\n",
        "            continue  # Restart loop if input is not an integer\n",
        "\n",
        "        if guess < secret_number:\n",
        "            print(\"Your guess is too low\\n\")\n",
        "        elif guess > secret_number:\n",
        "            print(\"Your guess is too high\\n\")\n",
        "        else:\n",
        "            print(f\"Congrats! The number was: {secret_number}\")\n",
        "            break  # Exit loop when guess is correct\n",
        "\n",
        "if __name__ == '__main__':\n",
        "    main()\n"
      ],
      "metadata": {
        "colab": {
          "base_uri": "https://localhost:8080/"
        },
        "id": "I4htWx-ii0MJ",
        "outputId": "748d6688-88b8-466f-f37c-5d2314dc31b4"
      },
      "execution_count": 10,
      "outputs": [
        {
          "output_type": "stream",
          "name": "stdout",
          "text": [
            "03_guess_my_number\n",
            "I am thinking of a number between 0 and 99...\n",
            "Enter a guess: 66\n",
            "Your guess is too high\n",
            "\n",
            "Enter a guess: 55\n",
            "Your guess is too high\n",
            "\n",
            "Enter a guess: 22\n",
            "Your guess is too high\n",
            "\n",
            "Enter a guess: 16\n",
            "Your guess is too high\n",
            "\n",
            "Enter a guess: 2\n",
            "Your guess is too low\n",
            "\n",
            "Enter a guess: 5\n",
            "Your guess is too low\n",
            "\n",
            "Enter a guess: 10\n",
            "Your guess is too low\n",
            "\n",
            "Enter a guess: 12\n",
            "Your guess is too low\n",
            "\n",
            "Enter a guess: 14\n",
            "Congrats! The number was: 14\n"
          ]
        }
      ]
    },
    {
      "cell_type": "code",
      "source": [
        "print(\"04_random_numbers\")\n",
        "\n",
        "import random\n",
        "\n",
        "N_NUMBERS: int = 10\n",
        "MIN_VALUE: int = 1\n",
        "MAX_VALUE: int = 100\n",
        "\n",
        "def main():\n",
        "    # Generate and print 10 random numbers in the range 1 to 100\n",
        "    random_numbers = [random.randint(MIN_VALUE, MAX_VALUE) for _ in range(N_NUMBERS)]\n",
        "\n",
        "    print(\" \".join(map(str, random_numbers)))  # Print numbers in a single line\n",
        "\n",
        "if __name__ == '__main__':\n",
        "    main()\n"
      ],
      "metadata": {
        "colab": {
          "base_uri": "https://localhost:8080/"
        },
        "id": "X0d_O2C5jUDa",
        "outputId": "9e6cf35b-fcda-46d0-fc2e-335965a9c3cf"
      },
      "execution_count": 26,
      "outputs": [
        {
          "output_type": "stream",
          "name": "stdout",
          "text": [
            "04_random_numbers\n",
            "88 56 40 28 7 70 65 7 77 50\n"
          ]
        }
      ]
    }
  ]
}
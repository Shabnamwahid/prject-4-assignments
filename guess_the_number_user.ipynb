{
  "nbformat": 4,
  "nbformat_minor": 0,
  "metadata": {
    "colab": {
      "provenance": [],
      "authorship_tag": "ABX9TyMGNx6+OdTQ2u5OAlhcbfQu",
      "include_colab_link": true
    },
    "kernelspec": {
      "name": "python3",
      "display_name": "Python 3"
    },
    "language_info": {
      "name": "python"
    }
  },
  "cells": [
    {
      "cell_type": "markdown",
      "metadata": {
        "id": "view-in-github",
        "colab_type": "text"
      },
      "source": [
        "<a href=\"https://colab.research.google.com/github/Shabnamwahid/prject-4-assignments/blob/main/guess_the_number_user.ipynb\" target=\"_parent\"><img src=\"https://colab.research.google.com/assets/colab-badge.svg\" alt=\"Open In Colab\"/></a>"
      ]
    },
    {
      "cell_type": "markdown",
      "source": [
        "# **Project 3: Guess the Number Game Python Project (user)**"
      ],
      "metadata": {
        "id": "MiHpYYt2v3Tw"
      }
    },
    {
      "cell_type": "code",
      "source": [
        "low, high = 1, 100\n",
        "attempts = 0\n",
        "\n",
        "print(\"Think of a number between 1 and 100, and I will try to guess it!\")\n",
        "\n",
        "while True:\n",
        "    guess = (low + high) // 2\n",
        "    print(f\"Is it {guess}? (Enter 'h' if too high, 'l' if too low, 'c' if correct)\")\n",
        "    response = input().lower()\n",
        "    attempts += 1\n",
        "\n",
        "    if response == 'h':\n",
        "        high = guess - 1\n",
        "    elif response == 'l':\n",
        "        low = guess + 1\n",
        "    elif response == 'c':\n",
        "        print(f\"🎯 Yay! I guessed your number in {attempts} tries!\")\n",
        "        break\n",
        "    else:\n",
        "        print(\"Invalid input! Please enter 'h', 'l', or 'c'.\")\n"
      ],
      "metadata": {
        "colab": {
          "base_uri": "https://localhost:8080/"
        },
        "id": "zfoLSvSav6jR",
        "outputId": "f090bad3-a63c-4cde-c9f2-9b0a84be795f"
      },
      "execution_count": 1,
      "outputs": [
        {
          "output_type": "stream",
          "name": "stdout",
          "text": [
            "Think of a number between 1 and 100, and I will try to guess it!\n",
            "Is it 50? (Enter 'h' if too high, 'l' if too low, 'c' if correct)\n",
            "l\n",
            "Is it 75? (Enter 'h' if too high, 'l' if too low, 'c' if correct)\n",
            "h\n",
            "Is it 62? (Enter 'h' if too high, 'l' if too low, 'c' if correct)\n",
            "l\n",
            "Is it 68? (Enter 'h' if too high, 'l' if too low, 'c' if correct)\n",
            "c\n",
            "🎯 Yay! I guessed your number in 4 tries!\n"
          ]
        }
      ]
    }
  ]
}
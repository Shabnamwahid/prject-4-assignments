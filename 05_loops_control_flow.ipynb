{
  "nbformat": 4,
  "nbformat_minor": 0,
  "metadata": {
    "colab": {
      "provenance": [],
      "authorship_tag": "ABX9TyPPT/KvOST6/5P/lfWLOaMP",
      "include_colab_link": true
    },
    "kernelspec": {
      "name": "python3",
      "display_name": "Python 3"
    },
    "language_info": {
      "name": "python"
    }
  },
  "cells": [
    {
      "cell_type": "markdown",
      "metadata": {
        "id": "view-in-github",
        "colab_type": "text"
      },
      "source": [
        "<a href=\"https://colab.research.google.com/github/Shabnamwahid/prject-4-assignments/blob/main/05_loops_control_flow.ipynb\" target=\"_parent\"><img src=\"https://colab.research.google.com/assets/colab-badge.svg\" alt=\"Open In Colab\"/></a>"
      ]
    },
    {
      "cell_type": "code",
      "execution_count": 1,
      "metadata": {
        "colab": {
          "base_uri": "https://localhost:8080/"
        },
        "id": "TV2QFWyqCw9E",
        "outputId": "b7568488-4d2d-4c1f-ea2c-8b855d5f371c"
      },
      "outputs": [
        {
          "output_type": "stream",
          "name": "stdout",
          "text": [
            "00_guess_my_number\n",
            "I am thinking of a number between 1 and 99...\n",
            "Enter a guess: 45\n",
            "Your guess is too high\n",
            "Enter a new guess: 35\n",
            "Your guess is too high\n",
            "Enter a new guess: 25\n",
            "Your guess is too high\n",
            "Enter a new guess: 8\n",
            "Your guess is too low\n",
            "Enter a new guess: 12\n",
            "Your guess is too high\n",
            "Enter a new guess: 10\n",
            "Congrats! The number was: 10\n"
          ]
        }
      ],
      "source": [
        "print(\"00_guess_my_number\")\n",
        "\n",
        "import random\n",
        "\n",
        "def main():\n",
        "    # 1 se 99 tak ka ek random number generate karna\n",
        "    secret_number = random.randint(1, 99)\n",
        "\n",
        "    print(\"I am thinking of a number between 1 and 99...\")\n",
        "\n",
        "    guess = int(input(\"Enter a guess: \"))  # Pehla guess lena\n",
        "\n",
        "    while guess != secret_number:  # Jab tak number sahi na ho, loop chalta rahega\n",
        "        if guess < secret_number:\n",
        "            print(\"Your guess is too low\")\n",
        "        else:\n",
        "            print(\"Your guess is too high\")\n",
        "\n",
        "        guess = int(input(\"Enter a new guess: \"))  # Naya guess lena\n",
        "\n",
        "    print(\"Congrats! The number was:\", secret_number)\n",
        "\n",
        "if __name__ == '__main__':\n",
        "    main()\n"
      ]
    },
    {
      "cell_type": "code",
      "source": [
        "print(\"01_fibonacc\")\n",
        "\n",
        "MAX_TERM_VALUE = 10000  # Maximum limit for Fibonacci numbers\n",
        "\n",
        "def main():\n",
        "    curr_term = 0  # First Fibonacci number\n",
        "    next_term = 1  # Second Fibonacci number\n",
        "\n",
        "    while curr_term <= MAX_TERM_VALUE:\n",
        "        print(curr_term, end=\" \")  # Print numbers in a single line\n",
        "        term_after_next = curr_term + next_term  # Calculate the next Fibonacci number\n",
        "        curr_term = next_term  # Update values\n",
        "        next_term = term_after_next\n",
        "\n",
        "if __name__ == '__main__':\n",
        "    main()\n",
        "\n"
      ],
      "metadata": {
        "colab": {
          "base_uri": "https://localhost:8080/"
        },
        "id": "LhQxvaZnDlA8",
        "outputId": "ddc83109-0d81-4729-d979-d344a9a7a6db"
      },
      "execution_count": 7,
      "outputs": [
        {
          "output_type": "stream",
          "name": "stdout",
          "text": [
            "01_fibonacc\n",
            "0 1 1 2 3 5 8 13 21 34 55 89 144 233 377 610 987 1597 2584 4181 6765 "
          ]
        }
      ]
    },
    {
      "cell_type": "code",
      "source": [
        "print(\"02_print_events\")\n",
        "\n",
        "def main():\n",
        "    # Loop runs 20 times (from 0 to 19)\n",
        "    for i in range(20):\n",
        "        # Multiply 'i' by 2 to get even numbers and print them\n",
        "        print(i * 2)\n",
        "\n",
        "# Call the main function when the script runs\n",
        "if __name__ == \"__main__\":\n",
        "    main()\n"
      ],
      "metadata": {
        "colab": {
          "base_uri": "https://localhost:8080/"
        },
        "id": "1hssjpYIFKdJ",
        "outputId": "4a614c89-87c0-4e00-a177-d4dd8a44db27"
      },
      "execution_count": 8,
      "outputs": [
        {
          "output_type": "stream",
          "name": "stdout",
          "text": [
            "02_print_events\n",
            "0\n",
            "2\n",
            "4\n",
            "6\n",
            "8\n",
            "10\n",
            "12\n",
            "14\n",
            "16\n",
            "18\n",
            "20\n",
            "22\n",
            "24\n",
            "26\n",
            "28\n",
            "30\n",
            "32\n",
            "34\n",
            "36\n",
            "38\n"
          ]
        }
      ]
    },
    {
      "cell_type": "code",
      "source": [
        "print(\"03_wholesome_machine\")\n",
        "\n",
        "# Define the correct affirmation as a constant\n",
        "AFFIRMATION: str = \"I am capable of doing anything I put my mind to.\"\n",
        "\n",
        "def main():\n",
        "    # Prompt the user to type the affirmation\n",
        "    print(\"Please type the following affirmation: \" + AFFIRMATION)\n",
        "\n",
        "    # Get user input\n",
        "    user_feedback = input()\n",
        "\n",
        "    # Loop until the user types the affirmation correctly\n",
        "    while user_feedback != AFFIRMATION:\n",
        "        print(\"That was not the affirmation.\")  # Inform the user of incorrect input\n",
        "        print(\"Please type the following affirmation: \" + AFFIRMATION)  # Prompt again\n",
        "        user_feedback = input()  # Get new input\n",
        "\n",
        "    print(\"That's right! :)\")  # Congratulate the user on correct input\n",
        "\n",
        "# Call the main function when the script runs\n",
        "if __name__ == '__main__':\n",
        "    main()\n"
      ],
      "metadata": {
        "colab": {
          "base_uri": "https://localhost:8080/"
        },
        "id": "viII6lbsF2RV",
        "outputId": "97a7b65d-2f00-4e7f-afba-008cd5b87ea6"
      },
      "execution_count": 9,
      "outputs": [
        {
          "output_type": "stream",
          "name": "stdout",
          "text": [
            "03_wholesome_machine\n",
            "Please type the following affirmation: I am capable of doing anything I put my mind to.\n",
            "I am capable of doing anything I put my mind to\n",
            "That was not the affirmation.\n",
            "Please type the following affirmation: I am capable of doing anything I put my mind to.\n",
            "I am capable of doing anything I put my mind to.\n",
            "That's right! :)\n"
          ]
        }
      ]
    },
    {
      "cell_type": "code",
      "source": [
        "print(\"04_liftoff\")\n",
        "\n",
        "def main():\n",
        "    # Loop from 10 down to 1 in reverse order\n",
        "    for i in range(10, 0, -1):\n",
        "        print(i)  # Print the countdown number\n",
        "\n",
        "    # Print \"Liftoff!\" after the countdown ends\n",
        "    print(\"Liftoff!\")\n",
        "\n",
        "# This provided line ensures the main function runs when the script is executed\n",
        "if __name__ == '__main__':\n",
        "    main()\n"
      ],
      "metadata": {
        "colab": {
          "base_uri": "https://localhost:8080/"
        },
        "id": "a7vlHC_pHf25",
        "outputId": "9a34c23a-8d9b-4265-ee92-a14523622f56"
      },
      "execution_count": 10,
      "outputs": [
        {
          "output_type": "stream",
          "name": "stdout",
          "text": [
            "04_liftoff\n",
            "10\n",
            "9\n",
            "8\n",
            "7\n",
            "6\n",
            "5\n",
            "4\n",
            "3\n",
            "2\n",
            "1\n",
            "Liftoff!\n"
          ]
        }
      ]
    },
    {
      "cell_type": "code",
      "source": [
        "print(\"05_double_it\")\n",
        "def main():\n",
        "    curr_value = int(input(\"Enter a number: \"))\n",
        "\n",
        "    while curr_value < 100:\n",
        "        curr_value *= 2\n",
        "        print(curr_value, end=\" \")\n",
        "\n",
        "    print()  # For a clean newline after the output\n",
        "\n",
        "if __name__ == '__main__':\n",
        "    main()\n"
      ],
      "metadata": {
        "colab": {
          "base_uri": "https://localhost:8080/"
        },
        "id": "7wX_WAEzICyB",
        "outputId": "31ed165a-5408-4442-805c-8489f94fd641"
      },
      "execution_count": 13,
      "outputs": [
        {
          "output_type": "stream",
          "name": "stdout",
          "text": [
            "05_double_it\n",
            "Enter a number: 11\n",
            "22 44 88 176 \n"
          ]
        }
      ]
    }
  ]
}
{
  "nbformat": 4,
  "nbformat_minor": 0,
  "metadata": {
    "colab": {
      "provenance": [],
      "authorship_tag": "ABX9TyOdj094kgb4zfkBPdg4Zr3D",
      "include_colab_link": true
    },
    "kernelspec": {
      "name": "python3",
      "display_name": "Python 3"
    },
    "language_info": {
      "name": "python"
    }
  },
  "cells": [
    {
      "cell_type": "markdown",
      "metadata": {
        "id": "view-in-github",
        "colab_type": "text"
      },
      "source": [
        "<a href=\"https://colab.research.google.com/github/Shabnamwahid/prject-4-assignments/blob/main/03_if_statements.ipynb\" target=\"_parent\"><img src=\"https://colab.research.google.com/assets/colab-badge.svg\" alt=\"Open In Colab\"/></a>"
      ]
    },
    {
      "cell_type": "code",
      "execution_count": 1,
      "metadata": {
        "colab": {
          "base_uri": "https://localhost:8080/"
        },
        "id": "81jz0W0UntMy",
        "outputId": "dd982402-10a7-4247-cb57-efe969f35b80"
      },
      "outputs": [
        {
          "output_type": "stream",
          "name": "stdout",
          "text": [
            "03_if_statements\n",
            "0\n",
            "2\n",
            "4\n",
            "6\n",
            "8\n",
            "10\n",
            "12\n",
            "14\n",
            "16\n",
            "18\n",
            "20\n",
            "22\n",
            "24\n",
            "26\n",
            "28\n",
            "30\n",
            "32\n",
            "34\n",
            "36\n",
            "38\n"
          ]
        }
      ],
      "source": [
        "print(\"03_if_statements\")\n",
        "\n",
        "def Even():\n",
        "    # Loop runs from 0 to 19 (total 20 times)\n",
        "    for i in range(20):\n",
        "        print(i * 2)  # Multiply 'i' by 2 to generate even numbers\n",
        "\n",
        "# This ensures that the main function runs when the script is executed\n",
        "if __name__ == \"__main__\":\n",
        "    Even()\n"
      ]
    },
    {
      "cell_type": "code",
      "source": [
        "print(\"02_international_voting_age\")\n",
        "# Define voting ages for different countries\n",
        "PETURKSBOUIPO_AGE = 16\n",
        "STANLAU_AGE = 25\n",
        "MAYENGUA_AGE = 48\n",
        "\n",
        "def main():\n",
        "    # Get the user's age as input\n",
        "    user_age = int(input(\"How old are you? \"))\n",
        "\n",
        "    # Check if the user can vote in Peturksbouipo\n",
        "    if user_age >= PETURKSBOUIPO_AGE:\n",
        "        print(\"You can vote in Peturksbouipo where the voting age is \" + str(PETURKSBOUIPO_AGE) + \".\")\n",
        "    else:\n",
        "        print(\"You cannot vote in Peturksbouipo where the voting age is \" + str(PETURKSBOUIPO_AGE) + \".\")\n",
        "\n",
        "    # Check if the user can vote in Stanlau\n",
        "    if user_age >= STANLAU_AGE:\n",
        "        print(\"You can vote in Stanlau where the voting age is \" + str(STANLAU_AGE) + \".\")\n",
        "    else:\n",
        "        print(\"You cannot vote in Stanlau where the voting age is \" + str(STANLAU_AGE) + \".\")\n",
        "\n",
        "    # Check if the user can vote in Mayengua\n",
        "    if user_age >= MAYENGUA_AGE:\n",
        "        print(\"You can vote in Mayengua where the voting age is \" + str(MAYENGUA_AGE) + \".\")\n",
        "    else:\n",
        "        print(\"You cannot vote in Mayengua where the voting age is \" + str(MAYENGUA_AGE) + \".\")\n",
        "\n",
        "# This provided line is required at the end of the Python file to call the main() function.\n",
        "if __name__ == '__main__':\n",
        "    main()\n",
        "\n"
      ],
      "metadata": {
        "colab": {
          "base_uri": "https://localhost:8080/"
        },
        "id": "SGs9jWxIv0MM",
        "outputId": "9395e54b-2a95-47cc-8859-dc6789c2bba8"
      },
      "execution_count": 8,
      "outputs": [
        {
          "output_type": "stream",
          "name": "stdout",
          "text": [
            "02_international_voting_age\n",
            "How old are you? 48\n",
            "You can vote in Peturksbouipo where the voting age is 16.\n",
            "You can vote in Stanlau where the voting age is 25.\n",
            "You can vote in Mayengua where the voting age is 48.\n"
          ]
        }
      ]
    },
    {
      "cell_type": "code",
      "source": [
        "print(\"03_leap_year\")\n",
        "\n",
        "def main():\n",
        "    # Get the year to check from the user\n",
        "    year = int(input(\"Please input a year: \"))\n",
        "\n",
        "    # Check if the year is evenly divisible by 4\n",
        "    if year % 4 == 0:\n",
        "        # If the year is also divisible by 100, it might not be a leap year\n",
        "        if year % 100 == 0:\n",
        "            # If the year is divisible by 400, it is a leap year\n",
        "            if year % 400 == 0:\n",
        "                print(\"That's a leap year!\")\n",
        "            else:\n",
        "                print(\"That's not a leap year.\")\n",
        "        else:\n",
        "            print(\"That's a leap year!\")\n",
        "    else:\n",
        "        print(\"That's not a leap year.\")\n",
        "\n",
        "\n",
        "# This provided line is required at the end of the Python file to call the main() function.\n",
        "if __name__ == '__main__':\n",
        "    main()\n"
      ],
      "metadata": {
        "colab": {
          "base_uri": "https://localhost:8080/"
        },
        "id": "S476NUie1MkE",
        "outputId": "837e8869-929f-44f4-c4d8-d7db3aaee7ec"
      },
      "execution_count": 11,
      "outputs": [
        {
          "output_type": "stream",
          "name": "stdout",
          "text": [
            "03_leap_year\n",
            "Please input a year: 2024\n",
            "That's a leap year!\n"
          ]
        }
      ]
    },
    {
      "cell_type": "code",
      "source": [
        "print(\"04_tall_enough_to_ride\")\n",
        "\n",
        "# Defining the minimum height required to ride (can be in any unit like cm or inches)\n",
        "MINIMUM_HEIGHT: int = 50\n",
        "\n",
        "def main():\n",
        "    # Ask the user for their height and store it as a string\n",
        "    height_str: str = input(\"How tall are you? \")  # Taking input from the user (initially as a string)\n",
        "\n",
        "    if height_str:  # Check if the user has entered a value\n",
        "        height: int = int(height_str)  # Convert the input into an integer\n",
        "\n",
        "        # Check if the user is tall enough to ride\n",
        "        if height >= MINIMUM_HEIGHT:\n",
        "            print(\"You're tall enough to ride!\")  # If height is sufficient, print this message\n",
        "        else:\n",
        "            print(\"You're not tall enough to ride, but maybe next year!\")  # If height is insufficient, print this message\n",
        "\n",
        "\n",
        "# This line should not be changed, as it is necessary to run the program\n",
        "if __name__ == '__main__':\n",
        "    main()\n"
      ],
      "metadata": {
        "colab": {
          "base_uri": "https://localhost:8080/"
        },
        "id": "hSiANWW31-RS",
        "outputId": "97eb8d97-a0ce-4b04-eada-a04e46aeee14"
      },
      "execution_count": 13,
      "outputs": [
        {
          "output_type": "stream",
          "name": "stdout",
          "text": [
            "04_tall_enough_to_ride\n",
            "How tall are you? 35\n",
            "You're not tall enough to ride, but maybe next year!\n"
          ]
        }
      ]
    },
    {
      "cell_type": "code",
      "source": [
        "print(\"05_random_numbers\")\n",
        "\n",
        "import random  # Importing the random module to generate random numbers\n",
        "\n",
        "# Defining constants for the number of random values and the range\n",
        "N_NUMBERS: int = 10\n",
        "MIN_VALUE: int = 1\n",
        "MAX_VALUE: int = 100\n",
        "\n",
        "def main():\n",
        "    \"\"\"\n",
        "    This function generates and prints 10 random numbers\n",
        "    in the range of 1 to 100.\n",
        "    \"\"\"\n",
        "    random_numbers = [random.randint(MIN_VALUE, MAX_VALUE) for _ in range(N_NUMBERS)]  # Generate 10 random numbers\n",
        "    print(\" \".join(map(str, random_numbers)))  # Convert numbers to string and print them space-separated\n",
        "\n",
        "\n",
        "# This line ensures that the main() function runs when the script is executed\n",
        "if __name__ == '__main__':\n",
        "    main()\n"
      ],
      "metadata": {
        "colab": {
          "base_uri": "https://localhost:8080/"
        },
        "id": "iYApr2t94fyN",
        "outputId": "7db86757-2b55-418e-e4ca-f6ddcf9017b0"
      },
      "execution_count": 22,
      "outputs": [
        {
          "output_type": "stream",
          "name": "stdout",
          "text": [
            "05_random_numbers\n",
            "38 42 17 31 21 21 62 42 49 56\n"
          ]
        }
      ]
    }
  ]
}
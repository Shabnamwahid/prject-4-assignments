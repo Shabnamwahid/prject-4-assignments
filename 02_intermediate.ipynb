{
  "nbformat": 4,
  "nbformat_minor": 0,
  "metadata": {
    "colab": {
      "provenance": [],
      "authorship_tag": "ABX9TyMHurGItPqPh7wszQIla5wY",
      "include_colab_link": true
    },
    "kernelspec": {
      "name": "python3",
      "display_name": "Python 3"
    },
    "language_info": {
      "name": "python"
    }
  },
  "cells": [
    {
      "cell_type": "markdown",
      "metadata": {
        "id": "view-in-github",
        "colab_type": "text"
      },
      "source": [
        "<a href=\"https://colab.research.google.com/github/Shabnamwahid/prject-4-assignments/blob/main/02_intermediate.ipynb\" target=\"_parent\"><img src=\"https://colab.research.google.com/assets/colab-badge.svg\" alt=\"Open In Colab\"/></a>"
      ]
    },
    {
      "cell_type": "code",
      "execution_count": 1,
      "metadata": {
        "colab": {
          "base_uri": "https://localhost:8080/"
        },
        "id": "nxeL61xBdD1_",
        "outputId": "7c9a77c2-c512-458b-e7fb-2969e0026bc0"
      },
      "outputs": [
        {
          "output_type": "stream",
          "name": "stdout",
          "text": [
            "Control Flow for Console\n",
            "Welcome to the High-Low Game!\n",
            "--------------------------------\n",
            "Round 1\n",
            "Your number is 41\n",
            "Do you think your number is higher or lower than the computer's? (higher/lower): h\n",
            "Invalid input! Please enter 'higher' or 'lower'.\n",
            "Do you think your number is higher or lower than the computer's? (higher/lower): higher\n",
            "You were right! The computer's number was 22\n",
            "Your score is now 1\n",
            "\n",
            "Round 2\n",
            "Your number is 85\n",
            "Do you think your number is higher or lower than the computer's? (higher/lower): lower\n",
            "Aww, that's incorrect. The computer's number was 5\n",
            "Your score is now 1\n",
            "\n",
            "Round 3\n",
            "Your number is 61\n",
            "Do you think your number is higher or lower than the computer's? (higher/lower): higher\n",
            "Aww, that's incorrect. The computer's number was 72\n",
            "Your score is now 1\n",
            "\n",
            "Round 4\n",
            "Your number is 73\n",
            "Do you think your number is higher or lower than the computer's? (higher/lower): lower\n",
            "You were right! The computer's number was 91\n",
            "Your score is now 2\n",
            "\n",
            "Round 5\n",
            "Your number is 48\n",
            "Do you think your number is higher or lower than the computer's? (higher/lower): higher\n",
            "You were right! The computer's number was 29\n",
            "Your score is now 3\n",
            "\n",
            "Thanks for playing!\n",
            "👍 Good job, you played really well!\n"
          ]
        }
      ],
      "source": [
        "print(\"Control Flow for Console\")\n",
        "\n",
        "\n",
        "import random\n",
        "\n",
        "# Number of rounds\n",
        "NUM_ROUNDS = 5\n",
        "\n",
        "def main():\n",
        "    print(\"Welcome to the High-Low Game!\")\n",
        "    print('--------------------------------')\n",
        "\n",
        "    # Player score\n",
        "    your_score = 0\n",
        "\n",
        "    # Playing multiple rounds\n",
        "    for i in range(NUM_ROUNDS):\n",
        "        print(f\"Round {i + 1}\")\n",
        "\n",
        "        # Generate random numbers\n",
        "        computer_num = random.randint(1, 100)\n",
        "        your_num = random.randint(1, 100)\n",
        "\n",
        "        print(f\"Your number is {your_num}\")\n",
        "\n",
        "        # Input validation\n",
        "        while True:\n",
        "            choice = input(\"Do you think your number is higher or lower than the computer's? (higher/lower): \").strip().lower()\n",
        "            if choice in [\"higher\", \"lower\"]:\n",
        "                break\n",
        "            print(\"Invalid input! Please enter 'higher' or 'lower'.\")\n",
        "\n",
        "        # Check winning conditions\n",
        "        if (choice == \"higher\" and your_num > computer_num) or (choice == \"lower\" and your_num < computer_num):\n",
        "            print(f\"You were right! The computer's number was {computer_num}\")\n",
        "            your_score += 1\n",
        "        else:\n",
        "            print(f\"Aww, that's incorrect. The computer's number was {computer_num}\")\n",
        "\n",
        "        # Display score\n",
        "        print(f\"Your score is now {your_score}\\n\")\n",
        "\n",
        "    # Conditional ending message\n",
        "    print(\"Thanks for playing!\")\n",
        "    if your_score == NUM_ROUNDS:\n",
        "        print(\"🎉 Wow! You played perfectly! 🎉\")\n",
        "    elif your_score >= NUM_ROUNDS // 2:\n",
        "        print(\"👍 Good job, you played really well!\")\n",
        "    else:\n",
        "        print(\"😞 Better luck next time!\")\n",
        "\n",
        "# Run the game\n",
        "if __name__ == \"__main__\":\n",
        "    main()\n"
      ]
    },
    {
      "cell_type": "code",
      "source": [
        "print(\"Intro to Python\")\n",
        "# Planetary Weight Calculator\n",
        "\n",
        "# Define gravity constants relative to Earth\n",
        "GRAVITY_CONSTANTS = {\n",
        "    \"Mercury\": 0.376,\n",
        "    \"Venus\": 0.889,\n",
        "    \"Mars\": 0.378,\n",
        "    \"Jupiter\": 2.36,\n",
        "    \"Saturn\": 1.081,\n",
        "    \"Uranus\": 0.815,\n",
        "    \"Neptune\": 1.14\n",
        "}\n",
        "\n",
        "def calculate_weight(earth_weight, planet):\n",
        "    \"\"\"Calculate the weight on the given planet.\"\"\"\n",
        "    if planet in GRAVITY_CONSTANTS:\n",
        "        return round(earth_weight * GRAVITY_CONSTANTS[planet], 2)\n",
        "    else:\n",
        "        return None  # Invalid planet name\n",
        "\n",
        "def main():\n",
        "    try:\n",
        "        # User input\n",
        "        earth_weight = float(input(\"Enter a weight on Earth (kg): \"))\n",
        "        planet = input(\"Enter a planet: \")\n",
        "\n",
        "        # Calculate weight on the selected planet\n",
        "        planetary_weight = calculate_weight(earth_weight, planet)\n",
        "\n",
        "        # Display result\n",
        "        if planetary_weight is not None:\n",
        "            print(f\"The equivalent weight on {planet}: {planetary_weight} kg\")\n",
        "        else:\n",
        "            print(\"Invalid planet name. Please enter a correct planet name.\")\n",
        "\n",
        "    except ValueError:\n",
        "        print(\"Please enter a valid numerical weight.\")\n",
        "\n",
        "# Run the program\n",
        "if __name__ == \"__main__\":\n",
        "    main()\n",
        "\n"
      ],
      "metadata": {
        "colab": {
          "base_uri": "https://localhost:8080/"
        },
        "id": "Idr_kkrwfF5l",
        "outputId": "058d22e0-4731-446e-85f9-69cc2129bdae"
      },
      "execution_count": 5,
      "outputs": [
        {
          "output_type": "stream",
          "name": "stdout",
          "text": [
            "\n",
            "Enter a weight on Earth (kg): 53\n",
            "Enter a planet: Mars\n",
            "The equivalent weight on Mars: 20.03 kg\n"
          ]
        }
      ]
    },
    {
      "cell_type": "code",
      "source": [
        "print(\"Lists and Dicts\")\n",
        "\n",
        "# Problem #1: List Practice\n",
        "\n",
        "def main():\n",
        "    # Create a list called fruit_list that contains the given fruits\n",
        "    fruit_list = ['apple', 'banana', 'orange', 'grape', 'pineapple']\n",
        "\n",
        "    # Print the length of the list\n",
        "    print(\"Length of fruit_list:\", len(fruit_list))\n",
        "\n",
        "    # Add 'mango' at the end of the list\n",
        "    fruit_list.append('mango')\n",
        "\n",
        "    # Print the updated list\n",
        "    print(\"Updated fruit_list:\", fruit_list)\n",
        "\n",
        "# Problem #2: Index Game\n",
        "\n",
        "def access_element(lst, index):\n",
        "    try:\n",
        "        return lst[index]\n",
        "    except IndexError:\n",
        "        return \"Index out of range.\"\n",
        "\n",
        "def modify_element(lst, index, new_value):\n",
        "    try:\n",
        "        lst[index] = new_value\n",
        "        return lst\n",
        "    except IndexError:\n",
        "        return \"Index out of range.\"\n",
        "\n",
        "def slice_list(lst, start, end):\n",
        "    try:\n",
        "        return lst[start:end]\n",
        "    except IndexError:\n",
        "        return \"Invalid indices.\"\n",
        "\n",
        "def index_game():\n",
        "    lst = [1, 2, 3, 4, 5]  # Example list\n",
        "    print(\"Current list:\", lst)\n",
        "    print(\"Choose an operation: access, modify, slice\")\n",
        "    operation = input(\"Enter operation: \").strip().lower()\n",
        "\n",
        "    if operation == \"access\":\n",
        "        index = int(input(\"Enter index to access: \"))\n",
        "        print(\"Result:\", access_element(lst, index))\n",
        "    elif operation == \"modify\":\n",
        "        index = int(input(\"Enter index to modify: \"))\n",
        "        new_value = input(\"Enter new value: \")\n",
        "        print(\"Updated list:\", modify_element(lst, index, new_value))\n",
        "    elif operation == \"slice\":\n",
        "        start = int(input(\"Enter start index: \"))\n",
        "        end = int(input(\"Enter end index: \"))\n",
        "        print(\"Sliced list:\", slice_list(lst, start, end))\n",
        "    else:\n",
        "        print(\"Invalid operation.\")\n",
        "\n",
        "if __name__ == \"__main__\":\n",
        "    main()\n",
        "    index_game()\n",
        "\n",
        "\n",
        "\n"
      ],
      "metadata": {
        "colab": {
          "base_uri": "https://localhost:8080/"
        },
        "id": "ZxifIkFBgpqS",
        "outputId": "0dd47f45-40df-4df0-d6c3-43fe472945a9"
      },
      "execution_count": 12,
      "outputs": [
        {
          "output_type": "stream",
          "name": "stdout",
          "text": [
            "Lists and Dicts\n",
            "Length of fruit_list: 5\n",
            "Updated fruit_list: ['apple', 'banana', 'orange', 'grape', 'pineapple', 'mango']\n",
            "Current list: [1, 2, 3, 4, 5]\n",
            "Choose an operation: access, modify, slice\n",
            "Enter operation: slice\n",
            "Enter start index: 0\n",
            "Enter end index: 3\n",
            "Sliced list: [1, 2, 3]\n"
          ]
        }
      ]
    }
  ]
}
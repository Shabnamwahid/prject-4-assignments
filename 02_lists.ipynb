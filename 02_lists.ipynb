{
  "nbformat": 4,
  "nbformat_minor": 0,
  "metadata": {
    "colab": {
      "provenance": [],
      "authorship_tag": "ABX9TyM06cjJRMjdu32YBIRlqVYi",
      "include_colab_link": true
    },
    "kernelspec": {
      "name": "python3",
      "display_name": "Python 3"
    },
    "language_info": {
      "name": "python"
    }
  },
  "cells": [
    {
      "cell_type": "markdown",
      "metadata": {
        "id": "view-in-github",
        "colab_type": "text"
      },
      "source": [
        "<a href=\"https://colab.research.google.com/github/Shabnamwahid/prject-4-assignments/blob/main/02_lists.ipynb\" target=\"_parent\"><img src=\"https://colab.research.google.com/assets/colab-badge.svg\" alt=\"Open In Colab\"/></a>"
      ]
    },
    {
      "cell_type": "code",
      "execution_count": 4,
      "metadata": {
        "colab": {
          "base_uri": "https://localhost:8080/"
        },
        "id": "Jf_kfWrKCj-a",
        "outputId": "92297a42-297e-42ca-db23-b2ae6563cf6d"
      },
      "outputs": [
        {
          "output_type": "stream",
          "name": "stdout",
          "text": [
            "01_add_many_number\n",
            "Enter numbers separated by commas: 10,20,5,15\n",
            "Sum of numbers: 50\n"
          ]
        }
      ],
      "source": [
        "print(\"01_add_many_number\")\n",
        "\n",
        "\n",
        "def add_many_numbers(numbers: list[int]) -> int:\n",
        "    \"\"\"\n",
        "    A function that takes a list of numbers and returns their sum.\n",
        "    \"\"\"\n",
        "    return sum(numbers)\n",
        "\n",
        "def main():\n",
        "    # Taking user input\n",
        "    numbers = list(map(int, input(\"Enter numbers separated by commas: \").split(\",\")))\n",
        "\n",
        "    # Calling the function to calculate the sum\n",
        "    sum_of_numbers = add_many_numbers(numbers)\n",
        "\n",
        "    # Printing the result\n",
        "    print(\"Sum of numbers:\", sum_of_numbers)\n",
        "\n",
        "# Calling the main function\n",
        "if __name__ == '__main__':\n",
        "    main()\n"
      ]
    },
    {
      "cell_type": "code",
      "source": [
        "print(\"02_double_list\")\n",
        "\n",
        "def main():\n",
        "    \"\"\"\n",
        "    This function doubles each element in the list of numbers.\n",
        "    \"\"\"\n",
        "    # Creating a list of numbers\n",
        "    numbers: list[int] = [1, 2, 3, 4]\n",
        "\n",
        "    # Looping through the list using indices\n",
        "    for i in range(len(numbers)):\n",
        "        elem_at_index = numbers[i]  # Get the current element\n",
        "        numbers[i] = elem_at_index * 2  # Multiply it by 2 and store it back\n",
        "\n",
        "    # Printing the updated list\n",
        "    print(\"Doubled numbers:\", numbers)\n",
        "\n",
        "# Running the main function\n",
        "if __name__ == '__main__':\n",
        "    main()\n",
        "\n"
      ],
      "metadata": {
        "colab": {
          "base_uri": "https://localhost:8080/"
        },
        "id": "ClJUbOVYEVwY",
        "outputId": "08323367-a92d-4c18-c232-3f5242f3ebb1"
      },
      "execution_count": 9,
      "outputs": [
        {
          "output_type": "stream",
          "name": "stdout",
          "text": [
            "02_double_list\n",
            "Doubled numbers: [2, 4, 6, 8]\n"
          ]
        }
      ]
    },
    {
      "cell_type": "code",
      "source": [
        "print(\"04_flowing_with_data_structures\")\n",
        "\n",
        "def add_three_copies(my_list, data):\n",
        "    \"\"\"\n",
        "    This function takes a list (my_list) and a data item.\n",
        "    It appends three copies of the data to the list.\n",
        "    \"\"\"\n",
        "    for i in range(3):  # Loop 3 times\n",
        "        my_list.append(data)  # Add data to the list\n",
        "\n",
        "########## No need to edit code past this point ##########\n",
        "\n",
        "def main():\n",
        "    \"\"\"\n",
        "    The main function asks the user for input, creates an empty list,\n",
        "    prints the list before modification, calls add_three_copies() to modify it,\n",
        "    and then prints the modified list.\n",
        "    \"\"\"\n",
        "    message = input(\"Enter a message to copy: \")  # Ask user for input\n",
        "    my_list = []  # Create an empty list\n",
        "\n",
        "    print(\"List before:\", my_list)  # Print the empty list\n",
        "\n",
        "    add_three_copies(my_list, message)  # Call function to add copies\n",
        "\n",
        "    print(\"List after:\", my_list)  # Print the updated list\n",
        "\n",
        "# This line ensures that the main function runs when the script is executed\n",
        "if __name__ == \"__main__\":\n",
        "    main()\n",
        "\n",
        "\n"
      ],
      "metadata": {
        "colab": {
          "base_uri": "https://localhost:8080/"
        },
        "id": "_9HTJjlPF1ny",
        "outputId": "dfb5db20-b416-4bca-bdeb-4cae37d54385"
      },
      "execution_count": 12,
      "outputs": [
        {
          "output_type": "stream",
          "name": "stdout",
          "text": [
            "04_flowing_with_data_structures\n",
            "Enter a message to copy: I Love Pakistan \n",
            "List before: []\n",
            "List after: ['I Love Pakistan ', 'I Love Pakistan ', 'I Love Pakistan ']\n"
          ]
        }
      ]
    },
    {
      "cell_type": "code",
      "source": [
        "print(\"05_get_first_element\")\n",
        "\n",
        "def get_first_element(lst):\n",
        "    \"\"\"\n",
        "    Prints the first element of a provided list.\n",
        "    \"\"\"\n",
        "    print(lst[0])  # Print the first element of the list\n",
        "\n",
        "# There is no need to edit code beyond this point\n",
        "\n",
        "def get_lst():\n",
        "    \"\"\"\n",
        "    Prompts the user to enter one element of the list at a time\n",
        "    and returns the resulting list.\n",
        "    \"\"\"\n",
        "    lst = []  # Create an empty list\n",
        "\n",
        "    # Ask the user to enter elements one by one\n",
        "    elem: str = input(\"Please enter an element of the list or press enter to stop: \")\n",
        "    while elem != \"\":  # Keep asking until the user presses Enter (empty input)\n",
        "        lst.append(elem)  # Add the entered element to the list\n",
        "        elem = input(\"Please enter an element of the list or press enter to stop: \")\n",
        "\n",
        "    return lst  # Return the final list with user input\n",
        "\n",
        "def main():\n",
        "    \"\"\"\n",
        "    Calls get_lst() to get a list from the user,\n",
        "    then prints the first element using get_first_element().\n",
        "    \"\"\"\n",
        "    lst = get_lst()  # Get the list from the user\n",
        "    get_first_element(lst)  # Print the first element of the list\n",
        "\n",
        "# This ensures the main function runs when the script is executed\n",
        "if __name__ == '__main__':\n",
        "    main()\n"
      ],
      "metadata": {
        "colab": {
          "base_uri": "https://localhost:8080/"
        },
        "id": "P8kAIKHCPrmP",
        "outputId": "14635b3a-1f0d-4e01-c565-790d5717272d"
      },
      "execution_count": 13,
      "outputs": [
        {
          "output_type": "stream",
          "name": "stdout",
          "text": [
            "05_get_first_element\n",
            "Please enter an element of the list or press enter to stop: Apple\n",
            "Please enter an element of the list or press enter to stop: cherry\n",
            "Please enter an element of the list or press enter to stop: banana\n",
            "Please enter an element of the list or press enter to stop: mango\n",
            "Please enter an element of the list or press enter to stop: kiwi\n",
            "Please enter an element of the list or press enter to stop: \n",
            "Apple\n"
          ]
        }
      ]
    },
    {
      "cell_type": "code",
      "source": [
        "print(\"06_get_last_element\")\n",
        "\n",
        "def get_last_element(lst):\n",
        "    \"\"\"\n",
        "    Prints the last element of the provided list.\n",
        "    \"\"\"\n",
        "    print(lst[-1])  # Last element print karega\n",
        "\n",
        "# Is code ko edit karne ki zaroorat nahi hai\n",
        "\n",
        "def get_lst():\n",
        "    \"\"\"\n",
        "    Prompts the user to enter one element of the list at a time and returns the resulting list.\n",
        "    \"\"\"\n",
        "    lst = []\n",
        "    elem = input(\"Please enter an element of the list or press enter to stop: \")\n",
        "    while elem != \"\":  # Jab tak user enter nahi dabata, tab tak list me elements add honge\n",
        "        lst.append(elem)\n",
        "        elem = input(\"Please enter an element of the list or press enter to stop: \")\n",
        "    return lst\n",
        "\n",
        "def main():\n",
        "    lst = get_lst()\n",
        "    get_last_element(lst)  # Last element print karega\n",
        "\n",
        "if __name__ == \"__main__\":\n",
        "    main()\n",
        "\n"
      ],
      "metadata": {
        "colab": {
          "base_uri": "https://localhost:8080/"
        },
        "id": "-VA5WPELSMN-",
        "outputId": "90615865-e81b-4806-88d8-5e6ed0214913"
      },
      "execution_count": 14,
      "outputs": [
        {
          "output_type": "stream",
          "name": "stdout",
          "text": [
            "06_get_last_element\n",
            "Please enter an element of the list or press enter to stop: strawberry\n",
            "Please enter an element of the list or press enter to stop: kiwi\n",
            "Please enter an element of the list or press enter to stop: cherry\n",
            "Please enter an element of the list or press enter to stop: mango\n",
            "Please enter an element of the list or press enter to stop: water melon\n",
            "Please enter an element of the list or press enter to stop: \n",
            "water melon\n"
          ]
        }
      ]
    },
    {
      "cell_type": "code",
      "source": [
        "print(\"07_get_list\")\n",
        "\n",
        "def main():\n",
        "    lst = []  # Khali list banayenge\n",
        "\n",
        "    val = input(\"Enter a value: \")  # Pehla input lenge\n",
        "    while val:  # Jab tak input empty nahi hota, loop chalega\n",
        "        lst.append(val)  # List me value add karenge\n",
        "        val = input(\"Enter a value: \")  # Dubara input lenge\n",
        "\n",
        "    print(\"Here's the list:\", lst)  # Jab user enter dabaayega toh list print hogi\n",
        "\n",
        "# Neeche wala code zaroori hai taake program run ho\n",
        "if __name__ == '__main__':\n",
        "    main()\n"
      ],
      "metadata": {
        "colab": {
          "base_uri": "https://localhost:8080/"
        },
        "id": "q5fvkRu8S_0R",
        "outputId": "05087f34-4e5f-4fd4-c396-59ee647c7394"
      },
      "execution_count": 15,
      "outputs": [
        {
          "output_type": "stream",
          "name": "stdout",
          "text": [
            "07_get_list\n",
            "Enter a value: cat\n",
            "Enter a value: dog\n",
            "Enter a value: horse\n",
            "Enter a value: elephent\n",
            "Enter a value: \n",
            "Here's the list: ['cat', 'dog', 'horse', 'elephent']\n"
          ]
        }
      ]
    },
    {
      "cell_type": "code",
      "source": [
        "print(\"08_shorten\")\n",
        "# Define the maximum allowed length of the list\n",
        "MAX_LENGTH: int = 3\n",
        "\n",
        "def shorten(lst):\n",
        "    \"\"\"\n",
        "    Removes elements from the end of the list until its length is MAX_LENGTH.\n",
        "    Prints each removed element.\n",
        "    \"\"\"\n",
        "    while len(lst) > MAX_LENGTH:\n",
        "        last_elem = lst.pop()  # Remove the last element\n",
        "        print(last_elem)  # Print the removed element\n",
        "\n",
        "# No need to edit code beyond this point\n",
        "\n",
        "def get_lst():\n",
        "    \"\"\"\n",
        "    Prompts the user to enter one element of the list at a time and returns the resulting list.\n",
        "    \"\"\"\n",
        "    lst = []\n",
        "    elem = input(\"Please enter an element of the list or press enter to stop: \")\n",
        "    while elem != \"\":\n",
        "        lst.append(elem)\n",
        "        elem = input(\"Please enter an element of the list or press enter to stop: \")\n",
        "    return lst\n",
        "\n",
        "def main():\n",
        "    lst = get_lst()\n",
        "    shorten(lst)\n",
        "\n",
        "if __name__ == '__main__':\n",
        "    main()\n",
        "\n",
        "\n"
      ],
      "metadata": {
        "colab": {
          "base_uri": "https://localhost:8080/"
        },
        "id": "vFlV9mqET2-y",
        "outputId": "aa759da5-34d3-4fe1-87e7-0b5ec875f3a8"
      },
      "execution_count": 17,
      "outputs": [
        {
          "output_type": "stream",
          "name": "stdout",
          "text": [
            "08_shorten\n",
            "Please enter an element of the list or press enter to stop: 2\n",
            "Please enter an element of the list or press enter to stop: 4\n",
            "Please enter an element of the list or press enter to stop: 6\n",
            "Please enter an element of the list or press enter to stop: 8\n",
            "Please enter an element of the list or press enter to stop: 10\n",
            "Please enter an element of the list or press enter to stop: 12\n",
            "Please enter an element of the list or press enter to stop: 14\n",
            "Please enter an element of the list or press enter to stop: \n",
            "14\n",
            "12\n",
            "10\n",
            "8\n"
          ]
        }
      ]
    }
  ]
}
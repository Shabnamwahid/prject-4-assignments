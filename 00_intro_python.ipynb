{
  "nbformat": 4,
  "nbformat_minor": 0,
  "metadata": {
    "colab": {
      "provenance": [],
      "authorship_tag": "ABX9TyNMfIzCSr3Y8f4MUNI3mOTn",
      "include_colab_link": true
    },
    "kernelspec": {
      "name": "python3",
      "display_name": "Python 3"
    },
    "language_info": {
      "name": "python"
    }
  },
  "cells": [
    {
      "cell_type": "markdown",
      "metadata": {
        "id": "view-in-github",
        "colab_type": "text"
      },
      "source": [
        "<a href=\"https://colab.research.google.com/github/Shabnamwahid/prject-4-assignments/blob/main/00_intro_python.ipynb\" target=\"_parent\"><img src=\"https://colab.research.google.com/assets/colab-badge.svg\" alt=\"Open In Colab\"/></a>"
      ]
    },
    {
      "cell_type": "code",
      "execution_count": null,
      "metadata": {
        "colab": {
          "base_uri": "https://localhost:8080/"
        },
        "id": "WBeHblsz_3mC",
        "outputId": "8486fcb6-e196-4724-8c7c-3153d4733a10"
      },
      "outputs": [
        {
          "output_type": "stream",
          "name": "stdout",
          "text": [
            "01_add_two_numbers.md\n",
            "Enter the first number: 10\n",
            "Enter the second number: 4\n",
            "The sum of 10 and 4 is 14.\n"
          ]
        }
      ],
      "source": [
        "print(\"01_add_two_numbers\")\n",
        "\n",
        "def main():\n",
        "    # Prompt the user to enter the first number\n",
        "    first_number = int(input(\"Enter the first number: \"))\n",
        "\n",
        "    # Prompt the user to enter the second number\n",
        "    second_number = int(input(\"Enter the second number: \"))\n",
        "\n",
        "    # Calculate the sum of the two numbers\n",
        "    total_sum = first_number + second_number\n",
        "\n",
        "    # Print the total sum with an appropriate message\n",
        "    print(f\"The sum of {first_number} and {second_number} is {total_sum}.\")\n",
        "\n",
        "# Call the main function\n",
        "if __name__ == \"__main__\":\n",
        "    main()\n"
      ]
    },
    {
      "cell_type": "code",
      "source": [
        "print(\"02_agreement_bot\")\n",
        "def bot():\n",
        "    # User se input lena\n",
        "    animal = input(\"🌟 What's your favorite animal? \").strip()\n",
        "\n",
        "    # Response print karna\n",
        "    print(f\"\\n🌿 My favorite animal is also {animal.capitalize()}! 🐾\")\n",
        "\n",
        "# Ye line zaroori hai taake main function run ho\n",
        "if __name__ == '__main__':\n",
        "   bot()\n"
      ],
      "metadata": {
        "colab": {
          "base_uri": "https://localhost:8080/"
        },
        "id": "_up0_PEfD5nA",
        "outputId": "ef1830f5-d847-4685-fcb6-a343cda670d5"
      },
      "execution_count": null,
      "outputs": [
        {
          "output_type": "stream",
          "name": "stdout",
          "text": [
            "02_agreement_bot.md\n",
            "🌟 What's your favorite animal? horse\n",
            "\n",
            "🌿 My favorite animal is also Horse! 🐾\n"
          ]
        }
      ]
    },
    {
      "cell_type": "code",
      "source": [
        "print(\"03_fahrenheit_to_celsius\")\n",
        "\n",
        "def Temperature():\n",
        "    # User se Fahrenheit temperature lena\n",
        "    fahrenheit = float(input(\"🌡️ Enter temperature in Fahrenheit: \").strip())\n",
        "\n",
        "    # Fahrenheit se Celsius convert karna\n",
        "    celsius = (fahrenheit - 32) * 5.0 / 9.0\n",
        "\n",
        "    # Output print karna\n",
        "    print(f\"\\n🌎 Temperature: {fahrenheit:.1f}F = {celsius:.15f}C\")\n",
        "\n",
        "# Program ko run karne ke liye ye zaroori hai\n",
        "if __name__ == \"__main__\":\n",
        "    Temperature()\n"
      ],
      "metadata": {
        "colab": {
          "base_uri": "https://localhost:8080/"
        },
        "id": "VGg8NQ0NGQR2",
        "outputId": "b38370e2-2b6f-4c34-8126-87940ba041a4"
      },
      "execution_count": null,
      "outputs": [
        {
          "output_type": "stream",
          "name": "stdout",
          "text": [
            "03_fahrenheit_to_celsius.md\n",
            "🌡️ Enter temperature in Fahrenheit: 76\n",
            "\n",
            "🌎 Temperature: 76.0F = 24.444444444444443C\n"
          ]
        }
      ]
    },
    {
      "cell_type": "code",
      "source": [
        "print(\"04_how_old_are_they\")\n",
        "\n",
        "def main():\n",
        "    anton: int = 21  # Anton's age is given as 21 years old\n",
        "    beth: int = 6 + anton  # Beth is 6 years older than Anton\n",
        "    chen: int = 20 + beth  # Chen is 20 years older than Beth\n",
        "    drew: int = chen + anton  # Drew is as old as Chen's age plus Anton's age\n",
        "    ethan: int = chen  # Ethan is the same age as Chen\n",
        "\n",
        "    # Print out all of the ages!\n",
        "    print(\"Anton is \" + str(anton))\n",
        "    print(\"Beth is \" + str(beth))\n",
        "    print(\"Chen is \" + str(chen))\n",
        "    print(\"Drew is \" + str(drew))\n",
        "    print(\"Ethan is \" + str(ethan))\n",
        "\n",
        "\n",
        "# This is required to run the main function\n",
        "if __name__ == '__main__':\n",
        "    main()\n"
      ],
      "metadata": {
        "colab": {
          "base_uri": "https://localhost:8080/"
        },
        "id": "rSK-onCVOF6r",
        "outputId": "6fca6c88-9b21-47b8-ecd8-ef693f10e0da"
      },
      "execution_count": 11,
      "outputs": [
        {
          "output_type": "stream",
          "name": "stdout",
          "text": [
            "04_how_old_are_they.md\n",
            "Anton is 21\n",
            "Beth is 27\n",
            "Chen is 47\n",
            "Drew is 68\n",
            "Ethan is 47\n"
          ]
        }
      ]
    },
    {
      "cell_type": "code",
      "source": [
        "print(\"05_triangle_perimeter\")\n",
        "\n",
        "def Triangle():\n",
        "    # User se input lena aur float me convert karna\n",
        "    side1: float = float(input(\"What is the length of side 1? \"))\n",
        "    side2: float = float(input(\"What is the length of side 2? \"))\n",
        "    side3: float = float(input(\"What is the length of side 3? \"))\n",
        "\n",
        "    # Perimeter calculate karna\n",
        "    perimeter = side1 + side2 + side3\n",
        "\n",
        "\n",
        "    #  What is the length of side 1? 3\n",
        "    # What is the length of side 2? 4\n",
        "\n",
        "   # What is the length of side 3? 5.5\n",
        "\n",
        "   # The perimeter of the triangle is 12.5\n",
        "\n",
        "\n",
        "    # Output print karna using f-string\n",
        "    print(f\"The perimeter of the triangle is {perimeter}\")\n",
        "\n",
        "# Ye line zaroori hai taake main function run ho\n",
        "if __name__ == '__main__':\n",
        "    Triangle()\n"
      ],
      "metadata": {
        "colab": {
          "base_uri": "https://localhost:8080/"
        },
        "id": "e5Od1MKKQdFY",
        "outputId": "7321e87f-5837-45a7-f4fb-c972b2a21fa6"
      },
      "execution_count": 14,
      "outputs": [
        {
          "output_type": "stream",
          "name": "stdout",
          "text": [
            "05_triangle_perimeter.md\n",
            "What is the length of side 1? 6\n",
            "What is the length of side 2? 6\n",
            "What is the length of side 3? 2.5\n",
            "The perimeter of the triangle is 14.5\n"
          ]
        }
      ]
    },
    {
      "cell_type": "code",
      "source": [
        "print(\"06_square_number\")\n",
        "\n",
        "def Squ():\n",
        "    # User se number input lena aur float me convert karna\n",
        "    num = float(input(\"Type a number to see its square: \"))\n",
        "\n",
        "    # Square calculate karna (num ** 2 ka matlab num ka square)\n",
        "    square = num ** 2\n",
        "\n",
        "    # Output print karna\n",
        "    print(f\"{num} squared is {square}\")\n",
        "\n",
        "# Ye line zaroori hai taake main function run ho\n",
        "if __name__ == '__main__':\n",
        "    Squ()\n"
      ],
      "metadata": {
        "colab": {
          "base_uri": "https://localhost:8080/"
        },
        "id": "R88SvU--TOqm",
        "outputId": "76678bc3-d815-4ce3-c82b-bd792b0ac24b"
      },
      "execution_count": 17,
      "outputs": [
        {
          "output_type": "stream",
          "name": "stdout",
          "text": [
            "06_square_number\n",
            "Type a number to see its square: 8\n",
            "8.0 squared is 64.0\n"
          ]
        }
      ]
    }
  ]
}
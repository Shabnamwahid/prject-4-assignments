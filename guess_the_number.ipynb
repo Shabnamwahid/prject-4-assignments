{
  "nbformat": 4,
  "nbformat_minor": 0,
  "metadata": {
    "colab": {
      "provenance": [],
      "authorship_tag": "ABX9TyM16k2ZH1tFxl/POnR/aOEj",
      "include_colab_link": true
    },
    "kernelspec": {
      "name": "python3",
      "display_name": "Python 3"
    },
    "language_info": {
      "name": "python"
    }
  },
  "cells": [
    {
      "cell_type": "markdown",
      "metadata": {
        "id": "view-in-github",
        "colab_type": "text"
      },
      "source": [
        "<a href=\"https://colab.research.google.com/github/Shabnamwahid/prject-4-assignments/blob/main/guess_the_number.ipynb\" target=\"_parent\"><img src=\"https://colab.research.google.com/assets/colab-badge.svg\" alt=\"Open In Colab\"/></a>"
      ]
    },
    {
      "cell_type": "code",
      "execution_count": null,
      "metadata": {
        "id": "g0-6JNARt3vO"
      },
      "outputs": [],
      "source": []
    },
    {
      "cell_type": "markdown",
      "source": [
        "# Project 2: Guess the Number Game Python Project (computer)"
      ],
      "metadata": {
        "id": "iWSbarabt4r0"
      }
    },
    {
      "cell_type": "code",
      "source": [
        "import random\n",
        "\n",
        "secret_number = random.randint(1, 100)\n",
        "attempts = 0\n",
        "\n",
        "print(\"🔢 Guess the Number Game! 🔢\")\n",
        "\n",
        "while True:\n",
        "    guess = int(input(\"Enter your guess (1-100): \"))\n",
        "    attempts += 1\n",
        "\n",
        "    if guess < secret_number:\n",
        "        print(\"Too low! Try again. 🔽\")\n",
        "    elif guess > secret_number:\n",
        "        print(\"Too high! Try again. 🔼\")\n",
        "    else:\n",
        "        print(f\"🎉 Correct! The number was {secret_number}. You guessed it in {attempts} tries!\")\n",
        "        break\n"
      ],
      "metadata": {
        "colab": {
          "base_uri": "https://localhost:8080/"
        },
        "id": "W26smriiuEI-",
        "outputId": "aa3b6e62-b8cf-4ca0-e0cb-71a634a4a84f"
      },
      "execution_count": 1,
      "outputs": [
        {
          "output_type": "stream",
          "name": "stdout",
          "text": [
            "🔢 Guess the Number Game! 🔢\n",
            "Enter your guess (1-100): 70\n",
            "Too high! Try again. 🔼\n",
            "Enter your guess (1-100): 40\n",
            "Too low! Try again. 🔽\n",
            "Enter your guess (1-100): 50\n",
            "Too low! Try again. 🔽\n",
            "Enter your guess (1-100): 66\n",
            "Too high! Try again. 🔼\n",
            "Enter your guess (1-100): 60\n",
            "Too high! Try again. 🔼\n",
            "Enter your guess (1-100): 55\n",
            "Too low! Try again. 🔽\n",
            "Enter your guess (1-100): 69\n",
            "Too high! Try again. 🔼\n",
            "Enter your guess (1-100): 59\n",
            "Too high! Try again. 🔼\n",
            "Enter your guess (1-100): 54\n",
            "Too low! Try again. 🔽\n",
            "Enter your guess (1-100): 55\n",
            "Too low! Try again. 🔽\n",
            "Enter your guess (1-100): 56\n",
            "Too low! Try again. 🔽\n",
            "Enter your guess (1-100): 57\n",
            "Too low! Try again. 🔽\n",
            "Enter your guess (1-100): 58\n",
            "🎉 Correct! The number was 58. You guessed it in 13 tries!\n"
          ]
        }
      ]
    }
  ]
}
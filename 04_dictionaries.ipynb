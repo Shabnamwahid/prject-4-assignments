{
  "nbformat": 4,
  "nbformat_minor": 0,
  "metadata": {
    "colab": {
      "provenance": [],
      "authorship_tag": "ABX9TyOqsWoCUFLAMYo6uHBvTqgo",
      "include_colab_link": true
    },
    "kernelspec": {
      "name": "python3",
      "display_name": "Python 3"
    },
    "language_info": {
      "name": "python"
    }
  },
  "cells": [
    {
      "cell_type": "markdown",
      "metadata": {
        "id": "view-in-github",
        "colab_type": "text"
      },
      "source": [
        "<a href=\"https://colab.research.google.com/github/Shabnamwahid/prject-4-assignments/blob/main/04_dictionaries.ipynb\" target=\"_parent\"><img src=\"https://colab.research.google.com/assets/colab-badge.svg\" alt=\"Open In Colab\"/></a>"
      ]
    },
    {
      "cell_type": "code",
      "execution_count": 3,
      "metadata": {
        "colab": {
          "base_uri": "https://localhost:8080/"
        },
        "id": "82hUTF5v67Uq",
        "outputId": "9c9eca49-1337-4e93-969d-f726fef4aed0"
      },
      "outputs": [
        {
          "output_type": "stream",
          "name": "stdout",
          "text": [
            "00_count_nums\n",
            "Enter a number: 99\n",
            "Enter a number: 56\n",
            "Enter a number: 49\n",
            "Enter a number: 36\n",
            "Enter a number: 45\n",
            "Enter a number: \n",
            "99 appears 1 times.\n",
            "56 appears 1 times.\n",
            "49 appears 1 times.\n",
            "36 appears 1 times.\n",
            "45 appears 1 times.\n"
          ]
        }
      ],
      "source": [
        "print(\"00_count_nums\")\n",
        "\n",
        "def get_user_numbers():\n",
        "    \"\"\"\n",
        "    This function asks the user to input numbers and stores them in a list.\n",
        "    The input process stops when the user enters a blank line.\n",
        "    Returns a list of numbers entered by the user.\n",
        "    \"\"\"\n",
        "    user_numbers = []  # Initialize an empty list to store numbers\n",
        "\n",
        "    while True:\n",
        "        user_input = input(\"Enter a number: \")  # Ask user for input\n",
        "\n",
        "        if user_input == \"\":  # Stop taking input if a blank line is entered\n",
        "            break\n",
        "\n",
        "        num = int(user_input)  # Convert input to an integer\n",
        "        user_numbers.append(num)  # Add number to the list\n",
        "\n",
        "    return user_numbers  # Return the list of numbers\n",
        "\n",
        "\n",
        "def count_nums(num_lst):\n",
        "    \"\"\"\n",
        "    This function takes a list of numbers and counts how many times each number appears.\n",
        "    Returns a dictionary where keys are numbers and values are their counts.\n",
        "    \"\"\"\n",
        "    num_dict = {}  # Initialize an empty dictionary\n",
        "\n",
        "    for num in num_lst:  # Loop through each number in the list\n",
        "        if num not in num_dict:\n",
        "            num_dict[num] = 1  # Add the number to dictionary if not already present\n",
        "        else:\n",
        "            num_dict[num] += 1  # Increment count if the number is already present\n",
        "\n",
        "    return num_dict  # Return the dictionary containing counts\n",
        "\n",
        "\n",
        "def print_counts(num_dict):\n",
        "    \"\"\"\n",
        "    This function prints each number and how many times it appears.\n",
        "    \"\"\"\n",
        "    for num in num_dict:  # Loop through dictionary\n",
        "        print(f\"{num} appears {num_dict[num]} times.\")  # Print count\n",
        "\n",
        "\n",
        "def main():\n",
        "    \"\"\"\n",
        "    This function gets user input, counts occurrences of each number,\n",
        "    and prints the results.\n",
        "    \"\"\"\n",
        "    user_numbers = get_user_numbers()  # Get list of user-entered numbers\n",
        "    num_dict = count_nums(user_numbers)  # Count occurrences of each number\n",
        "    print_counts(num_dict)  # Print the results\n",
        "\n",
        "\n",
        "# Ensures that the main function runs when the script is executed\n",
        "if __name__ == '__main__':\n",
        "    main()\n"
      ]
    },
    {
      "cell_type": "code",
      "source": [
        "print(\"01_phonebook\")\n",
        "\n",
        "def read_phone_numbers():\n",
        "    \"\"\"\n",
        "    This function collects names and phone numbers from the user\n",
        "    and stores them in a dictionary (phonebook).\n",
        "    The input process stops when the user enters a blank name.\n",
        "    Returns the phonebook dictionary.\n",
        "    \"\"\"\n",
        "    phonebook = {}  # Initialize an empty dictionary to store contacts\n",
        "\n",
        "    while True:\n",
        "        name = input(\"Name: \")  # Ask user for a name\n",
        "        if name == \"\":  # Stop input when a blank name is entered\n",
        "            break\n",
        "        number = input(\"Number: \")  # Ask for the corresponding phone number\n",
        "        phonebook[name] = number  # Store name-number pair in the dictionary\n",
        "\n",
        "    return phonebook  # Return the completed phonebook\n",
        "\n",
        "\n",
        "def print_phonebook(phonebook):\n",
        "    \"\"\"\n",
        "    This function prints all names and numbers stored in the phonebook.\n",
        "    \"\"\"\n",
        "    print(\"\\nPhonebook Entries:\")\n",
        "    for name in phonebook:  # Loop through dictionary keys (names)\n",
        "        print(f\"{name} -> {phonebook[name]}\")  # Print name and corresponding number\n",
        "\n",
        "\n",
        "def lookup_numbers(phonebook):\n",
        "    \"\"\"\n",
        "    This function allows the user to look up phone numbers by entering a name.\n",
        "    The search process stops when the user enters a blank name.\n",
        "    \"\"\"\n",
        "    while True:\n",
        "        name = input(\"\\nEnter name to look up (or press Enter to exit): \")\n",
        "        if name == \"\":  # Stop lookup if user enters a blank name\n",
        "            break\n",
        "        if name not in phonebook:\n",
        "            print(f\"{name} is not in the phonebook.\")  # Notify if name is not found\n",
        "        else:\n",
        "            print(f\"{name}'s number: {phonebook[name]}\")  # Display the found number\n",
        "\n",
        "\n",
        "def main():\n",
        "    \"\"\"\n",
        "    This function manages the phonebook:\n",
        "    - It collects phonebook entries from the user.\n",
        "    - Displays all saved contacts.\n",
        "    - Allows the user to look up phone numbers.\n",
        "    \"\"\"\n",
        "    phonebook = read_phone_numbers()  # Get user-input phonebook\n",
        "    print_phonebook(phonebook)  # Print all saved entries\n",
        "    lookup_numbers(phonebook)  # Allow user to search for numbers\n",
        "\n",
        "\n",
        "# Ensures the main function runs when the script is executed\n",
        "if __name__ == '__main__':\n",
        "    main()\n"
      ],
      "metadata": {
        "colab": {
          "base_uri": "https://localhost:8080/"
        },
        "id": "ItUBVm6-77T2",
        "outputId": "5e60f0d5-1de5-464d-eaf1-25c8ab6ff86b"
      },
      "execution_count": 4,
      "outputs": [
        {
          "name": "stdout",
          "output_type": "stream",
          "text": [
            "01_phonebook\n",
            "Name: Hussnain\n",
            "Number: 28990\n",
            "Name: Abeeha\n",
            "Number: 88901\n",
            "Name: honey bee\n",
            "Number: 887761\n",
            "Name: Dew\n",
            "Number: 445321\n",
            "Name: \n",
            "\n",
            "Phonebook Entries:\n",
            "Hussnain -> 28990\n",
            "Abeeha -> 88901\n",
            "honey bee -> 887761\n",
            "Dew -> 445321\n",
            "\n",
            "Enter name to look up (or press Enter to exit): \n"
          ]
        }
      ]
    },
    {
      "cell_type": "code",
      "source": [
        "print(\"02_pop_up_shop\")\n",
        "\n",
        "def main():\n",
        "    # Dictionary containing fruit names and their prices\n",
        "    fruits = {\n",
        "        'apple': 1.5,\n",
        "        'durian': 50,\n",
        "        'jackfruit': 80,\n",
        "        'kiwi': 1,\n",
        "        'rambutan': 1.5,\n",
        "        'mango': 5\n",
        "    }\n",
        "\n",
        "    total_cost = 0  # Initialize total cost\n",
        "\n",
        "    # Loop through each fruit and ask the user for the quantity\n",
        "    for fruit, price in fruits.items():\n",
        "        quantity = int(input(f\"How many ({fruit}) do you want to buy?: \"))\n",
        "        total_cost += price * quantity  # Calculate total cost\n",
        "\n",
        "    print(f\"Your total is ${total_cost}\")  # Print the total cost\n",
        "\n",
        "\n",
        "# Run the program\n",
        "if __name__ == '__main__':\n",
        "    main()\n"
      ],
      "metadata": {
        "colab": {
          "base_uri": "https://localhost:8080/"
        },
        "id": "hoaeuaEC9aS6",
        "outputId": "e2536097-ad05-4997-8dc4-7c2f4521f7cc"
      },
      "execution_count": 5,
      "outputs": [
        {
          "output_type": "stream",
          "name": "stdout",
          "text": [
            "02_pop_up_shop\n",
            "How many (apple) do you want to buy?: 8\n",
            "How many (durian) do you want to buy?: 6\n",
            "How many (jackfruit) do you want to buy?: 1\n",
            "How many (kiwi) do you want to buy?: 6\n",
            "How many (rambutan) do you want to buy?: 2\n",
            "How many (mango) do you want to buy?: 12\n",
            "Your total is $461.0\n"
          ]
        }
      ]
    },
    {
      "cell_type": "code",
      "source": [
        "print(\"03_powerful_passwords\")\n",
        "\n",
        "from hashlib import sha256\n",
        "\n",
        "def hash_password(password):\n",
        "    \"\"\"Returns the SHA256 hashed value of the given password.\"\"\"\n",
        "    return sha256(password.encode()).hexdigest()\n",
        "\n",
        "def login(email, stored_logins, password_to_check):\n",
        "    \"\"\"Checks if the hashed password matches the stored hash.\"\"\"\n",
        "    return stored_logins.get(email) == hash_password(password_to_check)\n",
        "\n",
        "def main():\n",
        "    # Stored emails with their hashed passwords\n",
        "    stored_logins = {\n",
        "        \"example@gmail.com\": \"5e884898da28047151d0e56f8dc6292773603d0d6aabbdd62a11ef721d1542d8\",\n",
        "        \"code_in_placer@cip.org\": \"973607a4ae7b4cf7d96a100b0fb07e8519cc4f70441d41214a9f811577bb06cc\",\n",
        "        \"student@stanford.edu\": \"882c6df720fd99f5eebb1581a1cf975625cea8a160283011c0b9512bb56c95fb\"\n",
        "    }\n",
        "\n",
        "    # Test cases\n",
        "    print(login(\"example@gmail.com\", stored_logins, \"word\"))  # False\n",
        "    print(login(\"example@gmail.com\", stored_logins, \"password\"))  # True\n",
        "    print(login(\"code_in_placer@cip.org\", stored_logins, \"Karel\"))  # True\n",
        "    print(login(\"code_in_placer@cip.org\", stored_logins, \"karel\"))  # False\n",
        "    print(login(\"student@stanford.edu\", stored_logins, \"password\"))  # False\n",
        "    print(login(\"student@stanford.edu\", stored_logins, \"123!456?789\"))  # True\n",
        "\n",
        "if __name__ == '__main__':\n",
        "    main()\n"
      ],
      "metadata": {
        "colab": {
          "base_uri": "https://localhost:8080/"
        },
        "id": "jL3jM6ME-XpZ",
        "outputId": "004fb854-b45c-4c38-d21c-ee2d906f807c"
      },
      "execution_count": 6,
      "outputs": [
        {
          "output_type": "stream",
          "name": "stdout",
          "text": [
            "03_powerful_passwords\n",
            "False\n",
            "True\n",
            "False\n",
            "True\n",
            "False\n",
            "True\n"
          ]
        }
      ]
    }
  ]
}
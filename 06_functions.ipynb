{
  "nbformat": 4,
  "nbformat_minor": 0,
  "metadata": {
    "colab": {
      "provenance": [],
      "authorship_tag": "ABX9TyO/SamcBd7yRkmb5bmZhSge",
      "include_colab_link": true
    },
    "kernelspec": {
      "name": "python3",
      "display_name": "Python 3"
    },
    "language_info": {
      "name": "python"
    }
  },
  "cells": [
    {
      "cell_type": "markdown",
      "metadata": {
        "id": "view-in-github",
        "colab_type": "text"
      },
      "source": [
        "<a href=\"https://colab.research.google.com/github/Shabnamwahid/prject-4-assignments/blob/main/06_functions.ipynb\" target=\"_parent\"><img src=\"https://colab.research.google.com/assets/colab-badge.svg\" alt=\"Open In Colab\"/></a>"
      ]
    },
    {
      "cell_type": "code",
      "execution_count": 5,
      "metadata": {
        "colab": {
          "base_uri": "https://localhost:8080/"
        },
        "id": "4306JVaTJqZf",
        "outputId": "5c2a026e-a6b0-4596-c07e-cbaf8ec322d3"
      },
      "outputs": [
        {
          "output_type": "stream",
          "name": "stdout",
          "text": [
            "00_averages\n",
            "avg_1 5.0\n",
            "avg_2 9.0\n",
            "final 7.0\n"
          ]
        }
      ],
      "source": [
        "print(\"00_averages\")\n",
        "\n",
        "def average(a: float, b: float):\n",
        "    \"\"\"\n",
        "    This function calculates the average of two numbers.\n",
        "    It takes two float values as input and returns their mean value.\n",
        "    \"\"\"\n",
        "    return (a + b) / 2  # Adding both numbers and dividing by 2 to get the average\n",
        "\n",
        "def main():\n",
        "    \"\"\"\n",
        "    This is the main function where we call the average function\n",
        "    with different values and print the results.\n",
        "    \"\"\"\n",
        "    avg_1 = average(0, 10)  # Finding the average of 0 and 10\n",
        "    avg_2 = average(8, 10)  # Finding the average of 8 and 10\n",
        "\n",
        "    final = average(avg_1, avg_2)  # Finding the average of avg_1 and avg_2\n",
        "\n",
        "    # Printing the calculated averages\n",
        "    print(\"avg_1\", avg_1)  # Output the first average\n",
        "    print(\"avg_2\", avg_2)  # Output the second average\n",
        "    print(\"final\", final)  # Output the final average\n",
        "\n",
        "# The following block ensures that the main function runs only when this file is executed directly\n",
        "if __name__ == '__main__':\n",
        "    main()  # Calling the main function to execute the program\n"
      ]
    },
    {
      "cell_type": "code",
      "source": [
        "print(\"01_chaotic_counting\")\n",
        "\n",
        "import random  # Random module ko import kiya\n",
        "\n",
        "# Probability constant (0.3 means 30% chance to stop)\n",
        "DONE_LIKELIHOOD = 0.3\n",
        "\n",
        "def chaotic_counting():\n",
        "    for i in range(10):\n",
        "        curr_num = i + 1\n",
        "        if done():\n",
        "            return  # Function execution yahan hi stop ho jayega\n",
        "        print(curr_num, end=\" \")  # Numbers ko ek line me print karne ke liye end=\" \" lagaya\n",
        "\n",
        "def done():\n",
        "    \"\"\" Returns True with a probability of DONE_LIKELIHOOD \"\"\"\n",
        "    return random.random() < DONE_LIKELIHOOD  # 30% chance se True return karega\n",
        "\n",
        "def main():\n",
        "    print(\"I'm going to count until 10 or until I feel like stopping, whichever comes first.\")\n",
        "    chaotic_counting()\n",
        "    print(\"\\nI'm done\")  # \"\\n\" ka matlab ek new line pe \"I'm done\" likhna\n",
        "\n",
        "if __name__ == \"__main__\":\n",
        "    main()\n"
      ],
      "metadata": {
        "colab": {
          "base_uri": "https://localhost:8080/"
        },
        "id": "1bf-ksL5LPRr",
        "outputId": "32f1ddb5-6991-4b7e-fb2d-32539330e901"
      },
      "execution_count": 24,
      "outputs": [
        {
          "output_type": "stream",
          "name": "stdout",
          "text": [
            "01_chaotic_counting\n",
            "I'm going to count until 10 or until I feel like stopping, whichever comes first.\n",
            "1 2 3 4 5 \n",
            "I'm done\n"
          ]
        }
      ]
    },
    {
      "cell_type": "code",
      "source": [
        "print(\"02_count_even\")\n",
        "\n",
        "def get_list_of_ints():\n",
        "    \"\"\"\n",
        "    Reads integers from the user until they press enter and returns the list.\n",
        "    \"\"\"\n",
        "    lst = []  # Create an empty list to store numbers\n",
        "    user_input = input(\"Enter an integer or press enter to stop: \")  # Ask for input\n",
        "\n",
        "    while user_input != \"\":  # Continue looping until the user presses enter\n",
        "        lst.append(int(user_input))  # Convert input to an integer and add to the list\n",
        "        user_input = input(\"Enter an integer or press enter to stop: \")  # Get next input\n",
        "\n",
        "    return lst  # Return the final list of numbers\n",
        "\n",
        "\n",
        "def count_even(lst):\n",
        "    \"\"\"\n",
        "    Counts and prints the number of even numbers in the given list.\n",
        "    \"\"\"\n",
        "    count = 0  # Variable to store the count of even numbers\n",
        "\n",
        "    for num in lst:  # Loop through each number in the list\n",
        "        if num % 2 == 0:  # Check if the number is even\n",
        "            count += 1  # Increase the count\n",
        "\n",
        "    print(count)  # Print the total count of even numbers\n",
        "\n",
        "\n",
        "def main():\n",
        "    \"\"\"\n",
        "    Main function to get user input and count even numbers.\n",
        "    \"\"\"\n",
        "    lst = get_list_of_ints()  # Get the list of integers from the user\n",
        "    count_even(lst)  # Count and print the even numbers in the list\n",
        "\n",
        "\n",
        "# This ensures the main function runs when the script is executed\n",
        "if __name__ == '__main__':\n",
        "    main()\n"
      ],
      "metadata": {
        "colab": {
          "base_uri": "https://localhost:8080/"
        },
        "id": "YJwVmI6RPRmb",
        "outputId": "8a4211c0-06b5-4b3e-b923-a0f804faade4"
      },
      "execution_count": 25,
      "outputs": [
        {
          "output_type": "stream",
          "name": "stdout",
          "text": [
            "02_count_even\n",
            "Enter an integer or press enter to stop: 3\n",
            "Enter an integer or press enter to stop: 9\n",
            "Enter an integer or press enter to stop: 6\n",
            "Enter an integer or press enter to stop: 2\n",
            "Enter an integer or press enter to stop: 1\n",
            "Enter an integer or press enter to stop: 0\n",
            "Enter an integer or press enter to stop: \n",
            "3\n"
          ]
        }
      ]
    },
    {
      "cell_type": "code",
      "source": [
        "print(\"04_double\")\n",
        "\n",
        "def double(num: int):\n",
        "    \"\"\"\n",
        "    Multiplies the given number by 2 and returns the result.\n",
        "    \"\"\"\n",
        "    return num * 2  # Return the doubled value\n",
        "\n",
        "\n",
        "def main():\n",
        "    \"\"\"\n",
        "    Asks the user for a number, doubles it, and prints the result.\n",
        "    \"\"\"\n",
        "    num = int(input(\"Enter a number: \"))  # Take input and convert to an integer\n",
        "    num_times_2 = double(num)  # Call the function to double the number\n",
        "    print(\"Double that is\", num_times_2)  # Print the result\n",
        "\n",
        "\n",
        "# Ensures main() runs when the script is executed\n",
        "if __name__ == '__main__':\n",
        "    main()\n"
      ],
      "metadata": {
        "colab": {
          "base_uri": "https://localhost:8080/"
        },
        "id": "DEoktHCqP-TS",
        "outputId": "d37a4ffa-ae16-40c2-bf0d-4bd58097fd13"
      },
      "execution_count": 27,
      "outputs": [
        {
          "output_type": "stream",
          "name": "stdout",
          "text": [
            "04_double\n",
            "Enter a number: 100\n",
            "Double that is 200\n"
          ]
        }
      ]
    },
    {
      "cell_type": "code",
      "source": [
        "print(\"05_get_name\")\n",
        "\n",
        "def get_name():\n",
        "    \"\"\"\n",
        "    Returns the name as a string.\n",
        "    \"\"\"\n",
        "    return \"Sophia\"  # The function must return \"Sophia\" as expected by the autograder\n",
        "\n",
        "\n",
        "def main():\n",
        "    \"\"\"\n",
        "    Calls the get_name() function and prints a greeting with the returned name.\n",
        "    \"\"\"\n",
        "    name = get_name()  # Store the returned name from get_name()\n",
        "    print(\"Howdy\", name, \"! 🤠\")  # Print the greeting message\n",
        "\n",
        "\n",
        "# Ensures the main() function runs when the script is executed\n",
        "if __name__ == '__main__':\n",
        "    main()\n"
      ],
      "metadata": {
        "colab": {
          "base_uri": "https://localhost:8080/"
        },
        "id": "AUacRBjiQi1f",
        "outputId": "ced84234-caff-402d-f1a2-bdbefe4aa6e0"
      },
      "execution_count": 28,
      "outputs": [
        {
          "output_type": "stream",
          "name": "stdout",
          "text": [
            "05_get_name\n",
            "Howdy Sophia ! 🤠\n"
          ]
        }
      ]
    },
    {
      "cell_type": "code",
      "source": [
        "print(\"06_is_odd\")\n",
        "\n",
        "def main():\n",
        "    \"\"\"\n",
        "    Prints numbers from 10 to 19 along with whether they are even or odd.\n",
        "    \"\"\"\n",
        "    for i in range(10, 20):  # Loop from 10 to 19 (inclusive)\n",
        "        if is_odd(i):\n",
        "            print(i, \"odd\")  # Print number followed by \"odd\"\n",
        "        else:\n",
        "            print(i, \"even\")  # Print number followed by \"even\"\n",
        "\n",
        "\n",
        "def is_odd(value: int):\n",
        "    \"\"\"\n",
        "    Checks if a number is odd.\n",
        "    Returns True if the number is odd, otherwise False.\n",
        "    \"\"\"\n",
        "    return value % 2 == 1  # Odd numbers give remainder 1 when divided by 2\n",
        "\n",
        "\n",
        "# Ensures the main() function runs when the script is executed\n",
        "if __name__ == '__main__':\n",
        "    main()\n"
      ],
      "metadata": {
        "colab": {
          "base_uri": "https://localhost:8080/"
        },
        "id": "4KJDIc4NRCtV",
        "outputId": "eab18255-89ed-461e-e223-d8ff89c18221"
      },
      "execution_count": 29,
      "outputs": [
        {
          "output_type": "stream",
          "name": "stdout",
          "text": [
            "06_is_odd\n",
            "10 even\n",
            "11 odd\n",
            "12 even\n",
            "13 odd\n",
            "14 even\n",
            "15 odd\n",
            "16 even\n",
            "17 odd\n",
            "18 even\n",
            "19 odd\n"
          ]
        }
      ]
    },
    {
      "cell_type": "code",
      "source": [
        "print(\"07_print_divisor\")\n",
        "\n",
        "def print_divisors(num: int):\n",
        "    \"\"\"\n",
        "    Prints all divisors of a given number.\n",
        "    \"\"\"\n",
        "    print(\"Here are the divisors of\", num)\n",
        "    for i in range(1, num + 1):  # Loop from 1 to num (inclusive)\n",
        "        if num % i == 0:  # If num is divisible by i without a remainder\n",
        "            print(i)  # Print the divisor\n",
        "\n",
        "def main():\n",
        "    \"\"\"\n",
        "    Takes user input and prints the divisors of the given number.\n",
        "    \"\"\"\n",
        "    num = int(input(\"Enter a number: \"))  # Get number from user\n",
        "    print_divisors(num)  # Call the function to print divisors\n",
        "\n",
        "# Ensures the main() function runs when the script is executed\n",
        "if __name__ == '__main__':\n",
        "    main()\n"
      ],
      "metadata": {
        "colab": {
          "base_uri": "https://localhost:8080/"
        },
        "id": "P4q_N3vKR-r6",
        "outputId": "d1fdc918-bea4-43f3-ab9e-f944de27adc8"
      },
      "execution_count": 32,
      "outputs": [
        {
          "output_type": "stream",
          "name": "stdout",
          "text": [
            "07_print_divisor\n",
            "Enter a number: 8\n",
            "Here are the divisors of 8\n",
            "1\n",
            "2\n",
            "4\n",
            "8\n"
          ]
        }
      ]
    },
    {
      "cell_type": "code",
      "source": [
        "print(\"08_print_multiple\")\n",
        "\n",
        "def print_multiple(message: str, repeats: int):\n",
        "    \"\"\"\n",
        "    Prints the given message multiple times.\n",
        "    \"\"\"\n",
        "    for i in range(repeats):  # Loop 'repeats' times\n",
        "        print(message)  # Print the message in each iteration\n",
        "\n",
        "def main():\n",
        "    \"\"\"\n",
        "    Takes user input and calls print_multiple to print the message repeatedly.\n",
        "    \"\"\"\n",
        "    message = input(\"Please type a message: \")  # Get message from user\n",
        "    repeats = int(input(\"Enter a number of times to repeat your message: \"))  # Get repetition count\n",
        "    print_multiple(message, repeats)  # Call the function\n",
        "\n",
        "# Ensures the main() function runs when the script is executed\n",
        "if __name__ == '__main__':\n",
        "    main()\n"
      ],
      "metadata": {
        "colab": {
          "base_uri": "https://localhost:8080/"
        },
        "id": "xzkFebLoSpej",
        "outputId": "ef67c396-edda-4a1e-87b2-866657f1a968"
      },
      "execution_count": 37,
      "outputs": [
        {
          "output_type": "stream",
          "name": "stdout",
          "text": [
            "08_print_multiple\n",
            "Please type a message: AoA\n",
            "Enter a number of times to repeat your message: 6\n",
            "AoA\n",
            "AoA\n",
            "AoA\n",
            "AoA\n",
            "AoA\n",
            "AoA\n"
          ]
        }
      ]
    },
    {
      "cell_type": "code",
      "source": [
        "print(\"09_sentence_generator\")\n",
        "\n",
        "\n",
        "def make_sentence(word: str, part_of_speech: int):\n",
        "    \"\"\"\n",
        "    Generates and prints a sentence based on the given word and part of speech.\n",
        "    \"\"\"\n",
        "    if part_of_speech == 0:\n",
        "        # If the word is a noun\n",
        "        print(f\"I am excited to add this {word} to my vast collection of them!\")\n",
        "    elif part_of_speech == 1:\n",
        "        # If the word is a verb\n",
        "        print(f\"It's so nice outside today it makes me want to {word}!\")\n",
        "    elif part_of_speech == 2:\n",
        "        # If the word is an adjective\n",
        "        print(f\"Looking out my window, the sky is big and {word}!\")\n",
        "    else:\n",
        "        # Invalid input case\n",
        "        print(\"Part of speech must be 0, 1, or 2! Can't make a sentence.\")\n",
        "\n",
        "def main():\n",
        "    \"\"\"\n",
        "    Takes user input for a word and its part of speech, then calls make_sentence.\n",
        "    \"\"\"\n",
        "    word: str = input(\"Please type a noun, verb, or adjective: \")  # Get word input\n",
        "    print(\"Is this a noun, verb, or adjective?\")\n",
        "    part_of_speech: int = int(input(\"Type 0 for noun, 1 for verb, 2 for adjective: \"))  # Get part of speech input\n",
        "    make_sentence(word, part_of_speech)  # Call function\n",
        "\n",
        "# Ensures the script runs the main() function when executed\n",
        "if __name__ == '__main__':\n",
        "    main()\n"
      ],
      "metadata": {
        "colab": {
          "base_uri": "https://localhost:8080/"
        },
        "id": "rDOWqqtgTjdu",
        "outputId": "116c7a86-750b-4993-a279-7ad9d05bd5eb"
      },
      "execution_count": 38,
      "outputs": [
        {
          "output_type": "stream",
          "name": "stdout",
          "text": [
            "09_sentence_generator\n",
            "Please type a noun, verb, or adjective: honey bee\n",
            "Is this a noun, verb, or adjective?\n",
            "Type 0 for noun, 1 for verb, 2 for adjective: 0\n",
            "I am excited to add this honey bee to my vast collection of them!\n"
          ]
        }
      ]
    },
    {
      "cell_type": "code",
      "source": [
        "print(\"10_print_ones_digit\")\n",
        "\n",
        "# Function to print the ones digit of a number\n",
        "def print_ones_digit(num):\n",
        "    print(\"The ones digit is\", num % 10)\n",
        "\n",
        "# Main function to get input from the user and call the function\n",
        "def main():\n",
        "    num = int(input(\"Enter a number: \"))  # Taking user input\n",
        "    print_ones_digit(num)  # Calling the function\n",
        "\n",
        "# Required line to call the main function\n",
        "if __name__ == '__main__':\n",
        "    main()\n",
        "\n"
      ],
      "metadata": {
        "colab": {
          "base_uri": "https://localhost:8080/"
        },
        "id": "lc86LZ_dUKrl",
        "outputId": "e3573839-d6bc-4b08-adcc-5e76547aa7ec"
      },
      "execution_count": 41,
      "outputs": [
        {
          "output_type": "stream",
          "name": "stdout",
          "text": [
            "10_print_ones_digit\n",
            "Enter a number: 45\n",
            "The ones digit is 5\n"
          ]
        }
      ]
    }
  ]
}
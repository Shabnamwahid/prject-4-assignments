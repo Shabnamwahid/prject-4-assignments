{
  "nbformat": 4,
  "nbformat_minor": 0,
  "metadata": {
    "colab": {
      "provenance": [],
      "authorship_tag": "ABX9TyMlHsio5t9Z1D6QBRVF5LWi",
      "include_colab_link": true
    },
    "kernelspec": {
      "name": "python3",
      "display_name": "Python 3"
    },
    "language_info": {
      "name": "python"
    }
  },
  "cells": [
    {
      "cell_type": "markdown",
      "metadata": {
        "id": "view-in-github",
        "colab_type": "text"
      },
      "source": [
        "<a href=\"https://colab.research.google.com/github/Shabnamwahid/prject-4-assignments/blob/main/01_expressions.ipynb\" target=\"_parent\"><img src=\"https://colab.research.google.com/assets/colab-badge.svg\" alt=\"Open In Colab\"/></a>"
      ]
    },
    {
      "cell_type": "code",
      "execution_count": 5,
      "metadata": {
        "colab": {
          "base_uri": "https://localhost:8080/"
        },
        "id": "8GEcBeH4a8vK",
        "outputId": "413180f6-b68b-4cfe-fb21-0669afa12cae"
      },
      "outputs": [
        {
          "output_type": "stream",
          "name": "stdout",
          "text": [
            "01_dicesimulator\n",
            "🧐 die1 in main() starts as: 10\n",
            "🎲 Die 1: 6, 🎲 Die 2: 3 → Total: 9\n",
            "🎲 Die 1: 1, 🎲 Die 2: 2 → Total: 3\n",
            "🎲 Die 1: 3, 🎲 Die 2: 2 → Total: 5\n",
            "🤔 die1 in main() is: 10\n"
          ]
        }
      ],
      "source": [
        "print(\"01_dicesimulator\")\n",
        "\n",
        "\"\"\"\n",
        "Program: dicesimulator 🎲\n",
        "----------------------\n",
        "Simulate rolling two dice, three times. 🎲🎲\n",
        "Prints the results of each die roll.\n",
        "This program is used to show how variable scope works.\n",
        "\"\"\"\n",
        "\n",
        "# Import the random library to simulate dice rolling 🎲\n",
        "import random\n",
        "\n",
        "# Number of sides on each die\n",
        "NUM_SIDES = 6\n",
        "\n",
        "def roll_dice():\n",
        "    \"\"\"\n",
        "    Simulates rolling two dice and prints their total 🎲 + 🎲 = 🔢\n",
        "    \"\"\"\n",
        "    die1: int = random.randint(1, NUM_SIDES)\n",
        "    die2: int = random.randint(1, NUM_SIDES)\n",
        "    total: int = die1 + die2\n",
        "    print(f\"🎲 Die 1: {die1}, 🎲 Die 2: {die2} → Total: {total}\")\n",
        "\n",
        "def main():\n",
        "    die1: int = 10  # Local variable in main()\n",
        "    print(f\"🧐 die1 in main() starts as: {die1}\")\n",
        "\n",
        "    # Roll the dice three times 🎲🎲\n",
        "    roll_dice()\n",
        "    roll_dice()\n",
        "    roll_dice()\n",
        "\n",
        "    print(f\"🤔 die1 in main() is: {die1}\")\n",
        "\n",
        "# This provided line is required to call the main() function\n",
        "if __name__ == '__main__':\n",
        "    main()\n"
      ]
    },
    {
      "cell_type": "code",
      "source": [
        "print(\"02_e=mc2\")\n",
        "\n",
        "# Speed of light constant\n",
        "C: int = 299792458\n",
        "\n",
        "def main():\n",
        "    # User se mass input lena\n",
        "    mass: float = float(input(\"Enter kilos of mass: \"))\n",
        "\n",
        "    # Energy calculate karna\n",
        "    energy: float = mass * (C ** 2)\n",
        "\n",
        "    # Output dikhana\n",
        "    print(\"\\ne = m * C^2...\")\n",
        "    print(f\"m = {mass} kg\")\n",
        "    print(f\"C = {C} m/s\")\n",
        "    print(f\"{energy} joules of energy!\")\n",
        "\n",
        "# Program start karne ke liye\n",
        "if __name__ == '__main__':\n",
        "    main()\n",
        "\n"
      ],
      "metadata": {
        "colab": {
          "base_uri": "https://localhost:8080/"
        },
        "id": "vIO5P4utf-Xz",
        "outputId": "869508cf-c6cd-49fb-ef6d-1c20d70f5758"
      },
      "execution_count": 11,
      "outputs": [
        {
          "output_type": "stream",
          "name": "stdout",
          "text": [
            "02_e=mc2\n",
            "Enter kilos of mass: 50\n",
            "\n",
            "e = m * C^2...\n",
            "m = 50.0 kg\n",
            "C = 299792458 m/s\n",
            "4.493775893684088e+18 joules of energy!\n"
          ]
        }
      ]
    },
    {
      "cell_type": "code",
      "source": [
        "print(\"03_feet_to_inches\")\n",
        "\n",
        "# Feet to inches conversion constant\n",
        "INCHES_IN_FOOT: int = 12\n",
        "\n",
        "def main():\n",
        "    # User se feet ka input lena\n",
        "    feet: float = float(input(\"Enter number of feet I will convert in inches: \"))\n",
        "\n",
        "    # Feet ko inches mein convert karna\n",
        "    inches: float = feet * INCHES_IN_FOOT\n",
        "\n",
        "    # Result print karna\n",
        "    print(f\"That is {inches} inches!\")\n",
        "\n",
        "# Program start karne ke liye\n",
        "if __name__ == '__main__':\n",
        "    main()\n"
      ],
      "metadata": {
        "colab": {
          "base_uri": "https://localhost:8080/"
        },
        "id": "WeYq9G77iSYu",
        "outputId": "25ea1d8a-5032-4873-ee9d-74eb244b0397"
      },
      "execution_count": 16,
      "outputs": [
        {
          "output_type": "stream",
          "name": "stdout",
          "text": [
            "03_feet_to_inches\n",
            "Enter number of feet I will convert in inches\\: 23\n",
            "That is 276.0 inches!\n"
          ]
        }
      ]
    },
    {
      "cell_type": "code",
      "source": [
        "print(\"04_pythagorean_theorem\")\n",
        "import math  # Math library ko import karna\n",
        "\n",
        "def main():\n",
        "    # User se do perpendicular sides ka input lena\n",
        "    ab = float(input(\"Enter the length of AB: \"))\n",
        "    ac = float(input(\"Enter the length of AC: \"))\n",
        "\n",
        "    # Pythagorean theorem ka istemal karna\n",
        "    bc = math.sqrt(ab**2 + ac**2)\n",
        "\n",
        "    # Hypotenuse print karna\n",
        "    print(f\"The length of BC (the hypotenuse) is: {bc:.2f}\")  # .2f ka matlab 2 decimal tak show karega\n",
        "\n",
        "# Program start karne ke liye\n",
        "if __name__ == '__main__':\n",
        "    main()\n"
      ],
      "metadata": {
        "colab": {
          "base_uri": "https://localhost:8080/"
        },
        "id": "NKfIS1pLkKm5",
        "outputId": "b636a4b5-5467-4035-ac42-bbb2d15ea539"
      },
      "execution_count": 18,
      "outputs": [
        {
          "output_type": "stream",
          "name": "stdout",
          "text": [
            "04_pythagorean_theorem\n",
            "Enter the length of AB: 4\n",
            "Enter the length of AC: 6\n",
            "The length of BC (the hypotenuse) is: 7.21\n"
          ]
        }
      ]
    },
    {
      "cell_type": "code",
      "source": [
        "print(\"05_remainder_division\")\n",
        "\n",
        "def main():\n",
        "    # User se do numbers lena\n",
        "    dividend: int = int(input(\"Please enter an integer to be divided: \"))\n",
        "    divisor: int = int(input(\"Please enter an integer to divide by: \"))\n",
        "\n",
        "    # Division ka result aur remainder nikalna\n",
        "    quotient: int = dividend // divisor\n",
        "    remainder: int = dividend % divisor\n",
        "\n",
        "    # Output dikhana\n",
        "    print(f\"The result of this division is {quotient} with a remainder of {remainder}\")\n",
        "\n",
        "# Program start karne ke liye\n",
        "if __name__ == '__main__':\n",
        "    main()\n"
      ],
      "metadata": {
        "colab": {
          "base_uri": "https://localhost:8080/"
        },
        "id": "AKpIK4GjlfKw",
        "outputId": "f6ec781c-cccc-4e14-b3c1-0677887d3464"
      },
      "execution_count": 21,
      "outputs": [
        {
          "output_type": "stream",
          "name": "stdout",
          "text": [
            "05_remainder_division\n",
            "Please enter an integer to be divided: 15\n",
            "Please enter an integer to divide by: 2\n",
            "The result of this division is 7 with a remainder of 1\n"
          ]
        }
      ]
    },
    {
      "cell_type": "code",
      "source": [
        "print(\"06_rolldice\")\n",
        "\n",
        "import random\n",
        "\n",
        "def main():\n",
        "    # Dono dice roll karna (1 se 6 tak ke random numbers)\n",
        "    die1 = random.randint(1, 6)\n",
        "    die2 = random.randint(1, 6)\n",
        "\n",
        "    # Total calculate karna\n",
        "    total = die1 + die2\n",
        "\n",
        "    # Result print karna\n",
        "    print(f\"First die: {die1}\")\n",
        "    print(f\"Second die: {die2}\")\n",
        "    print(f\"Total of two dice: {total}\")\n",
        "\n",
        "# Program start karne ke liye\n",
        "if __name__ == '__main__':\n",
        "    main()\n"
      ],
      "metadata": {
        "colab": {
          "base_uri": "https://localhost:8080/"
        },
        "id": "GlHamsxmmlb9",
        "outputId": "60ffd6b7-fc2c-4e8c-9819-a6f97d9f847b"
      },
      "execution_count": 30,
      "outputs": [
        {
          "output_type": "stream",
          "name": "stdout",
          "text": [
            "06_rolldice\n",
            "First die: 5\n",
            "Second die: 6\n",
            "Total of two dice: 11\n"
          ]
        }
      ]
    },
    {
      "cell_type": "code",
      "source": [
        "print(\"06_seconds_in_year\")\n",
        "\n",
        "def main():\n",
        "    # Constants define karna\n",
        "    DAYS_PER_YEAR = 365\n",
        "    HOURS_PER_DAY = 24\n",
        "    MIN_PER_HOUR = 60\n",
        "    SEC_PER_MIN = 60\n",
        "\n",
        "    # Seconds calculate karna\n",
        "    seconds_in_year = DAYS_PER_YEAR * HOURS_PER_DAY * MIN_PER_HOUR * SEC_PER_MIN\n",
        "\n",
        "    # Result print karna\n",
        "    print(f\"There are {seconds_in_year} seconds in a year!\")\n",
        "\n",
        "# Program start karne ke liye\n",
        "if __name__ == '__main__':\n",
        "    main()\n"
      ],
      "metadata": {
        "colab": {
          "base_uri": "https://localhost:8080/"
        },
        "id": "8eXYmEV5ng7c",
        "outputId": "ba817399-a381-41c7-82b6-b6e9c8b2410f"
      },
      "execution_count": 31,
      "outputs": [
        {
          "output_type": "stream",
          "name": "stdout",
          "text": [
            "06_seconds_in_year\n",
            "There are 31536000 seconds in a year!\n"
          ]
        }
      ]
    },
    {
      "cell_type": "code",
      "source": [
        "print(\"07_tiny_mad_lib\")\n",
        "\n",
        "def main():\n",
        "    # Pehle se diya gaya sentence start\n",
        "    SENTENCE_START = \"I m Programmer and   \"\n",
        "\n",
        "    # User se inputs lena\n",
        "    adjective = input(\"Please type an adjective and press enter: \")\n",
        "\n",
        "    noun = input(\"Please type a noun and press enter: \")\n",
        "\n",
        "    verb = input(\"Please type a verb and press enter: \")\n",
        "\n",
        "\n",
        "\n",
        "\n",
        "\n",
        "    # Final sentence print karna\n",
        "    print(SENTENCE_START + adjective + \" \" + noun + \" \" + verb + \"!\")\n",
        "\n",
        "# Program start karne ke liye\n",
        "if __name__ == '__main__':\n",
        "    main()\n"
      ],
      "metadata": {
        "colab": {
          "base_uri": "https://localhost:8080/"
        },
        "id": "lahh2boKoDt1",
        "outputId": "83ef0803-3e92-4ec1-84ba-f8e5c0d28232"
      },
      "execution_count": 44,
      "outputs": [
        {
          "output_type": "stream",
          "name": "stdout",
          "text": [
            "07_tiny_mad_lib\n",
            "Please type an adjective and press enter: good\n",
            "Please type a noun and press enter: he\n",
            "Please type a verb and press enter: is\n",
            "I m Programmer and   good he is!\n"
          ]
        }
      ]
    }
  ]
}
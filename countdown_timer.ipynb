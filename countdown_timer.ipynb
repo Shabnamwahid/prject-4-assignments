{
  "nbformat": 4,
  "nbformat_minor": 0,
  "metadata": {
    "colab": {
      "provenance": [],
      "authorship_tag": "ABX9TyPsHmOkLdQRt8YZ7B78nc7L",
      "include_colab_link": true
    },
    "kernelspec": {
      "name": "python3",
      "display_name": "Python 3"
    },
    "language_info": {
      "name": "python"
    }
  },
  "cells": [
    {
      "cell_type": "markdown",
      "metadata": {
        "id": "view-in-github",
        "colab_type": "text"
      },
      "source": [
        "<a href=\"https://colab.research.google.com/github/Shabnamwahid/prject-4-assignments/blob/main/countdown_timer.ipynb\" target=\"_parent\"><img src=\"https://colab.research.google.com/assets/colab-badge.svg\" alt=\"Open In Colab\"/></a>"
      ]
    },
    {
      "cell_type": "markdown",
      "source": [
        "# Project 6: Countdown Timer Python **Project**"
      ],
      "metadata": {
        "id": "tchWRNKQzvTq"
      }
    },
    {
      "cell_type": "code",
      "source": [
        "import time\n",
        "\n",
        "seconds = int(input(\"Enter countdown time in seconds: \"))\n",
        "\n",
        "for i in range(seconds, 0, -1):\n",
        "    print(i, end=\"\\r\", flush=True)\n",
        "    time.sleep(1)\n",
        "\n",
        "print(\"⏰ Time's up!\")\n"
      ],
      "metadata": {
        "colab": {
          "base_uri": "https://localhost:8080/"
        },
        "id": "wxigjjp6z0cG",
        "outputId": "39ad6739-278a-4637-964d-06c2468832c6"
      },
      "execution_count": 2,
      "outputs": [
        {
          "output_type": "stream",
          "name": "stdout",
          "text": [
            "Enter countdown time in seconds: 5\n",
            "⏰ Time's up!\n"
          ]
        }
      ]
    }
  ]
}
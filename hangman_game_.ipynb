{
  "nbformat": 4,
  "nbformat_minor": 0,
  "metadata": {
    "colab": {
      "provenance": [],
      "authorship_tag": "ABX9TyPvs2MgRMeWPIUSxfQVlhBo",
      "include_colab_link": true
    },
    "kernelspec": {
      "name": "python3",
      "display_name": "Python 3"
    },
    "language_info": {
      "name": "python"
    }
  },
  "cells": [
    {
      "cell_type": "markdown",
      "metadata": {
        "id": "view-in-github",
        "colab_type": "text"
      },
      "source": [
        "<a href=\"https://colab.research.google.com/github/Shabnamwahid/prject-4-assignments/blob/main/hangman_game_.ipynb\" target=\"_parent\"><img src=\"https://colab.research.google.com/assets/colab-badge.svg\" alt=\"Open In Colab\"/></a>"
      ]
    },
    {
      "cell_type": "markdown",
      "source": [
        "# **Project 5: Hangman Python Project**"
      ],
      "metadata": {
        "id": "Sn54TpAYxpcD"
      }
    },
    {
      "cell_type": "code",
      "source": [
        "import random\n",
        "\n",
        "words = [\"python\", \"hangman\", \"coding\", \"developer\", \"programming\"]\n",
        "word = random.choice(words)\n",
        "guessed_letters = []\n",
        "attempts = 6\n",
        "\n",
        "print(\"🕹️ Hangman Game! You have 6 attempts.\")\n",
        "\n",
        "while attempts > 0:\n",
        "    display_word = \"\".join([letter if letter in guessed_letters else \"_\" for letter in word])\n",
        "    print(display_word)\n",
        "\n",
        "    if \"_\" not in display_word:\n",
        "        print(\"🎉 Congratulations! You guessed the word!\")\n",
        "        break\n",
        "\n",
        "    guess = input(\"Guess a letter: \").lower()\n",
        "    if guess in guessed_letters:\n",
        "        print(\"You already guessed this letter!\")\n",
        "        continue\n",
        "\n",
        "    guessed_letters.append(guess)\n",
        "\n",
        "    if guess not in word:\n",
        "        attempts -= 1\n",
        "        print(f\"Wrong guess! {attempts} attempts left.\")\n",
        "\n",
        "    if attempts == 0:\n",
        "        print(f\"😢 Game Over! The word was '{word}'.\")\n"
      ],
      "metadata": {
        "colab": {
          "base_uri": "https://localhost:8080/"
        },
        "id": "hvWwsULUxszM",
        "outputId": "48017f7e-3621-4ada-8e51-8abd5d333148"
      },
      "execution_count": 1,
      "outputs": [
        {
          "output_type": "stream",
          "name": "stdout",
          "text": [
            "🕹️ Hangman Game! You have 6 attempts.\n",
            "_________\n",
            "Guess a letter: h\n",
            "Wrong guess! 5 attempts left.\n",
            "_________\n",
            "Guess a letter: p\n",
            "______p__\n",
            "Guess a letter: y\n",
            "Wrong guess! 4 attempts left.\n",
            "______p__\n",
            "Guess a letter: t\n",
            "Wrong guess! 3 attempts left.\n",
            "______p__\n",
            "Guess a letter: h\n",
            "You already guessed this letter!\n",
            "______p__\n",
            "Guess a letter: o\n",
            "_____op__\n",
            "Guess a letter: c\n",
            "Wrong guess! 2 attempts left.\n",
            "_____op__\n",
            "Guess a letter: d\n",
            "d____op__\n",
            "Guess a letter: e\n",
            "de_e_ope_\n",
            "Guess a letter: v\n",
            "deve_ope_\n",
            "Guess a letter: l\n",
            "develope_\n",
            "Guess a letter: r\n",
            "developer\n",
            "🎉 Congratulations! You guessed the word!\n"
          ]
        }
      ]
    }
  ]
}
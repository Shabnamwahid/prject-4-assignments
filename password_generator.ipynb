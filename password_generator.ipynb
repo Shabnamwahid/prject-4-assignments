{
  "nbformat": 4,
  "nbformat_minor": 0,
  "metadata": {
    "colab": {
      "provenance": [],
      "authorship_tag": "ABX9TyNGlo7hsBil4PrpboFCLIm6",
      "include_colab_link": true
    },
    "kernelspec": {
      "name": "python3",
      "display_name": "Python 3"
    },
    "language_info": {
      "name": "python"
    }
  },
  "cells": [
    {
      "cell_type": "markdown",
      "metadata": {
        "id": "view-in-github",
        "colab_type": "text"
      },
      "source": [
        "<a href=\"https://colab.research.google.com/github/Shabnamwahid/prject-4-assignments/blob/main/password_generator.ipynb\" target=\"_parent\"><img src=\"https://colab.research.google.com/assets/colab-badge.svg\" alt=\"Open In Colab\"/></a>"
      ]
    },
    {
      "cell_type": "markdown",
      "source": [],
      "metadata": {
        "id": "KV42o0pU0dwl"
      }
    },
    {
      "cell_type": "markdown",
      "source": [
        "# **Project 7: Password Generator Python Project**"
      ],
      "metadata": {
        "id": "KrLmnRN_0fan"
      }
    },
    {
      "cell_type": "code",
      "source": [
        "import random\n",
        "import string\n",
        "\n",
        "length = int(input(\"Enter password length: \"))\n",
        "\n",
        "characters = string.ascii_letters + string.digits + string.punctuation\n",
        "password = \"\".join(random.choice(characters) for _ in range(length))\n",
        "\n",
        "print(f\"🔐 Generated Password: {password}\")\n"
      ],
      "metadata": {
        "colab": {
          "base_uri": "https://localhost:8080/"
        },
        "id": "w2Yj4TeN0k35",
        "outputId": "332e75d2-e241-4bf3-9a99-aa896cdf7be2"
      },
      "execution_count": 2,
      "outputs": [
        {
          "output_type": "stream",
          "name": "stdout",
          "text": [
            "Enter password length: 9\n",
            "🔐 Generated Password: |<NXoLI,y\n"
          ]
        }
      ]
    }
  ]
}
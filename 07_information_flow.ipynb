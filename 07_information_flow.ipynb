{
  "nbformat": 4,
  "nbformat_minor": 0,
  "metadata": {
    "colab": {
      "provenance": [],
      "authorship_tag": "ABX9TyMD8rj7+8/4wWXCKV/mG6ac",
      "include_colab_link": true
    },
    "kernelspec": {
      "name": "python3",
      "display_name": "Python 3"
    },
    "language_info": {
      "name": "python"
    }
  },
  "cells": [
    {
      "cell_type": "markdown",
      "metadata": {
        "id": "view-in-github",
        "colab_type": "text"
      },
      "source": [
        "<a href=\"https://colab.research.google.com/github/Shabnamwahid/prject-4-assignments/blob/main/07_information_flow.ipynb\" target=\"_parent\"><img src=\"https://colab.research.google.com/assets/colab-badge.svg\" alt=\"Open In Colab\"/></a>"
      ]
    },
    {
      "cell_type": "code",
      "execution_count": 17,
      "metadata": {
        "colab": {
          "base_uri": "https://localhost:8080/"
        },
        "id": "1MYLcaxPOhXu",
        "outputId": "a54a018a-c5d5-49a9-9342-930ab3befce5"
      },
      "outputs": [
        {
          "output_type": "stream",
          "name": "stdout",
          "text": [
            "00_choosing_returns\n",
            "How old is this person?: 19\n",
            "True\n"
          ]
        }
      ],
      "source": [
        "print(\"00_choosing_returns\")\n",
        "\n",
        "ADULT_AGE : int = 18 # U.S. age\n",
        "\n",
        "def is_adult(age: int):\n",
        "    if age >= ADULT_AGE:\n",
        "        return True\n",
        "\n",
        "    return False\n",
        "\n",
        "########## No need to edit code beyond this point :) ##########\n",
        "\n",
        "def main():\n",
        "    age : str = int(input(\"How old is this person?: \"))\n",
        "    print(is_adult(age))\n",
        "\n",
        "\n",
        "if __name__ == \"__main__\":\n",
        "    main()"
      ]
    },
    {
      "cell_type": "code",
      "source": [
        "print(\"01_greetings\")\n",
        "# Function to greet the user\n",
        "def greet(name):\n",
        "    return \"Greetings \" + name + \"!\"\n",
        "\n",
        "########## No need to edit code beyond this point :) ##########\n",
        "\n",
        "# Main function to get user name and greet them\n",
        "def main():\n",
        "    # Asking user for their name\n",
        "    name: str = input(\"What's your name? \")\n",
        "    print(greet(name))  # Calling the greet function\n",
        "\n",
        "# Call the main function\n",
        "if __name__ == '__main__':\n",
        "    main()\n",
        "\n"
      ],
      "metadata": {
        "colab": {
          "base_uri": "https://localhost:8080/"
        },
        "id": "s0Hea4Q4TnzD",
        "outputId": "a34f04bb-ad7a-4467-ee85-dc2b26e1eafb"
      },
      "execution_count": 21,
      "outputs": [
        {
          "output_type": "stream",
          "name": "stdout",
          "text": [
            "01_greetings\n",
            "What's your name? bini\n",
            "Greetings bini!\n"
          ]
        }
      ]
    },
    {
      "cell_type": "code",
      "source": [
        "print(\"02_in_range\")\n",
        "\n",
        "# Function to check if a number is within a given range\n",
        "def in_range(n, low, high):\n",
        "    \"\"\"\n",
        "    Returns True if n is between low and high, inclusive.\n",
        "    high is guaranteed to be greater than low.\n",
        "    \"\"\"\n",
        "    return low <= n <= high  # Shorter and more readable condition\n",
        "\n",
        "########## No need to edit code beyond this point :) ##########\n",
        "\n",
        "# Main function to test the in_range function\n",
        "def main():\n",
        "    # Asking user for input values\n",
        "    n = int(input(\"Enter a number: \"))\n",
        "    low = int(input(\"Enter the lower bound: \"))\n",
        "    high = int(input(\"Enter the upper bound: \"))\n",
        "\n",
        "    # Checking if the number is in the given range\n",
        "    print(in_range(n, low, high))\n",
        "\n",
        "# Call the main function\n",
        "if __name__ == '__main__':\n",
        "    main()\n",
        "\n"
      ],
      "metadata": {
        "colab": {
          "base_uri": "https://localhost:8080/"
        },
        "id": "Q6-O5wWTT_3-",
        "outputId": "0a0f0112-33bb-4e89-c93b-ea8b34ca07aa"
      },
      "execution_count": 24,
      "outputs": [
        {
          "output_type": "stream",
          "name": "stdout",
          "text": [
            "02_in_range\n",
            "Enter a number: 14\n",
            "Enter the lower bound: 6\n",
            "Enter the upper bound: 16\n",
            "True\n"
          ]
        }
      ]
    },
    {
      "cell_type": "code",
      "source": [
        "print(\"03_in_stock\")\n",
        "# Function to check how many of a given fruit are in stock\n",
        "def num_in_stock(fruit):\n",
        "    \"\"\"\n",
        "    This function returns the number of fruit Sophia has in stock.\n",
        "    \"\"\"\n",
        "    inventory = {\n",
        "        'apple': 2,\n",
        "        'durian': 4,\n",
        "        'pear': 1000\n",
        "    }\n",
        "\n",
        "    # Return the stock count if fruit exists in inventory, otherwise return 0\n",
        "    return inventory.get(fruit, 0)\n",
        "\n",
        "########## No need to edit code beyond this point :) ##########\n",
        "\n",
        "# Main function to get user input and check stock\n",
        "def main():\n",
        "    fruit: str = input(\"Enter a fruit: \")  # Asking user to enter a fruit\n",
        "    stock = num_in_stock(fruit)  # Get the stock count for the given fruit\n",
        "\n",
        "    if stock == 0:\n",
        "        print(\"This fruit is not in stock.\")  # If stock is 0, print message\n",
        "    else:\n",
        "        print(\"This fruit is in stock! Here is how many:\")\n",
        "        print(stock)  # Print the available stock count\n",
        "\n",
        "# Call the main function\n",
        "if __name__ == '__main__':\n",
        "    main()\n",
        "\n"
      ],
      "metadata": {
        "colab": {
          "base_uri": "https://localhost:8080/"
        },
        "id": "NY1QA04rVgxl",
        "outputId": "bd50570e-a96a-4761-9c38-a1392ee399f8"
      },
      "execution_count": 26,
      "outputs": [
        {
          "output_type": "stream",
          "name": "stdout",
          "text": [
            "03_in_stock\n",
            "Enter a fruit: pear\n",
            "This fruit is in stock! Here is how many:\n",
            "1000\n"
          ]
        }
      ]
    },
    {
      "cell_type": "code",
      "source": [
        "print(\"04_multiple_returns\")\n",
        "\n",
        "# Function to get user details\n",
        "def get_user_info():\n",
        "    \"\"\"\n",
        "    This function asks the user for their first name, last name, and email,\n",
        "    then returns them as a tuple.\n",
        "    \"\"\"\n",
        "    first_name: str = input(\"What is your first name?: \")\n",
        "    last_name: str = input(\"What is your last name?: \")\n",
        "    email_address: str = input(\"What is your email address?: \")\n",
        "\n",
        "    return first_name, last_name, email_address  # Returning multiple values as a tuple\n",
        "\n",
        "########## No need to edit code past this point :) ##########\n",
        "\n",
        "# Main function to call get_user_info() and display the data\n",
        "def main():\n",
        "    user_data = get_user_info()  # Get user information\n",
        "    print(\"Received the following user data:\", user_data)  # Print received data\n",
        "\n",
        "# Calling the main function\n",
        "if __name__ == \"__main__\":\n",
        "    main()\n"
      ],
      "metadata": {
        "colab": {
          "base_uri": "https://localhost:8080/"
        },
        "id": "nbCldNMdWiby",
        "outputId": "8c58a555-365e-49c9-e71b-d3662906a706"
      },
      "execution_count": 28,
      "outputs": [
        {
          "output_type": "stream",
          "name": "stdout",
          "text": [
            "04_multiple_returns\n",
            "What is your first name?: shabnam\n",
            "What is your last name?: wahid\n",
            "What is your email address?: shabnam@gmail.com\n",
            "Received the following user data: ('shabnam', 'wahid', 'shabnam@gmail.com')\n"
          ]
        }
      ]
    },
    {
      "cell_type": "code",
      "source": [
        "print(\"05_subtract_7\")\n",
        "\n",
        "# Function to subtract 7 from a number\n",
        "def subtract_seven(num: int) -> int:\n",
        "    \"\"\"\n",
        "    This function subtracts 7 from the given number.\n",
        "    \"\"\"\n",
        "    return num - 7  # Returning the result after subtraction\n",
        "\n",
        "########## No need to edit code beyond this point :) ##########\n",
        "\n",
        "# Main function to test subtract_seven\n",
        "def main():\n",
        "    num: int = 7  # Initial number\n",
        "    result = subtract_seven(num)  # Subtract 7 from the number\n",
        "    print(\"This should be zero:\", result)  # Print the result\n",
        "\n",
        "# Calling the main function\n",
        "if __name__ == \"__main__\":\n",
        "    main()\n"
      ],
      "metadata": {
        "colab": {
          "base_uri": "https://localhost:8080/"
        },
        "id": "uDEhmhEuXQ4g",
        "outputId": "647745d4-03bb-4de7-b232-04a4165fd0ad"
      },
      "execution_count": 29,
      "outputs": [
        {
          "output_type": "stream",
          "name": "stdout",
          "text": [
            "05_subtract_7\n",
            "This should be zero: 0\n"
          ]
        }
      ]
    }
  ]
}